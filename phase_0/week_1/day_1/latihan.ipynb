{
 "cells": [
  {
   "cell_type": "markdown",
   "metadata": {},
   "source": [
    "### Day 1 Intro Python"
   ]
  },
  {
   "cell_type": "code",
   "execution_count": 155,
   "metadata": {},
   "outputs": [
    {
     "name": "stdout",
     "output_type": "stream",
     "text": [
      "the first color in the list is Green\n",
      "the last color in the list is Black\n"
     ]
    }
   ],
   "source": [
    "# List 1\n",
    "# Write a Python program to display the first and last colors from the following list. \n",
    "# color_list = [\"Red\",\"Green\",\"White\",\"Black\"]\n",
    "\n",
    "color_list = [\"Red\",\"Green\",\"White\" ,\"Black\"]\n",
    "print(f\"the first color in the list is {color_list[1]}\")\n",
    "print(f\"the last color in the list is {color_list[3]}\")"
   ]
  },
  {
   "cell_type": "code",
   "execution_count": 156,
   "metadata": {},
   "outputs": [
    {
     "name": "stdout",
     "output_type": "stream",
     "text": [
      "original list color : ['Red', 'Green', 'White', 'Black', 'Pink', 'Yellow']\n",
      "after removing the 0th, 4th and 5th elements :['Green', 'White', 'Black']\n",
      "===============\n",
      "after removing the 0th, 4th and 5th elements :['Green', 'White', 'Black']\n"
     ]
    }
   ],
   "source": [
    "# List 2\n",
    "# Write a Python program to print a specified list after removing the 0th, 4th and 5th elements.\n",
    "# Sample List : ['Red', 'Green', 'White', 'Black', 'Pink', 'Yellow']\n",
    "# Expected Output : ['Green', 'White', 'Black']\n",
    "\n",
    "sample_list = ['Red' , 'Green', 'White', 'Black', 'Pink', 'Yellow']\n",
    "print(f\"original list color : {sample_list}\")\n",
    "del sample_list[0]\n",
    "del sample_list[3:5]\n",
    "print(f\"after removing the 0th, 4th and 5th elements :{sample_list}\")\n",
    "\n",
    "# Other Option\n",
    "print('='*15)\n",
    "sample_list = ['Red' , 'Green', 'White', 'Black', 'Pink', 'Yellow']\n",
    "sample_list = [i for i in sample_list if i not in ('Red','Pink', 'Yellow')]\n",
    "print(f\"after removing the 0th, 4th and 5th elements :{sample_list}\")\n"
   ]
  },
  {
   "cell_type": "code",
   "execution_count": 160,
   "metadata": {},
   "outputs": [
    {
     "name": "stdout",
     "output_type": "stream",
     "text": [
      "Result : {0: 10, 1: 20, 2: 30}\n"
     ]
    }
   ],
   "source": [
    "# Dictionary 1\n",
    "# Write a Python script to add a key to a dictionary.\n",
    "# Sample Dictionary : {0: 10, 1: 20}\n",
    "# Expected Result : {0: 10, 1: 20, 2: 30}\n",
    "\n",
    "sample_dictionary = {0: 10, 1: 20}\n",
    "sample_dictionary[2]= 30\n",
    "print(f\"Result : {sample_dictionary}\")"
   ]
  },
  {
   "cell_type": "code",
   "execution_count": 161,
   "metadata": {},
   "outputs": [
    {
     "name": "stdout",
     "output_type": "stream",
     "text": [
      "sample_dictionary:{0: 10, 1: 20, 2: 30}\n",
      "total sum all the items in a dictionary is : 60\n",
      "===============\n",
      "total sum all the items in a dictionary is : 60\n"
     ]
    }
   ],
   "source": [
    "# Dictionary 2\n",
    "# Write a Python program to sum all the items in a dictionary.\n",
    "\n",
    "print(f\"sample_dictionary:{sample_dictionary}\")\n",
    "sum(sample_dictionary.values())\n",
    "print(f\"total sum all the items in a dictionary is : {total_sum}\")\n",
    "\n",
    "# Other Option \n",
    "print('='*15)\n",
    "sample_dictionary = {0: 10, 1: 20, 2: 30}\n",
    "sample_dictionary1 = sum(sample_dictionary[item] for item in sample_dictionary)\n",
    "print(f\"total sum all the items in a dictionary is : {sample_dictionary1}\")"
   ]
  },
  {
   "cell_type": "code",
   "execution_count": 205,
   "metadata": {},
   "outputs": [
    {
     "name": "stdout",
     "output_type": "stream",
     "text": [
      "Result : xyc abz\n"
     ]
    }
   ],
   "source": [
    "# String 1\n",
    "# Write a Python program to get a single string from two given strings, separated by a space and swap the first two characters of each string. \n",
    "# Sample String : 'abc', 'xyz' \n",
    "# Expected Result : 'xyc abz\n",
    "\n",
    "string_1 = \"abc\"\n",
    "string_2 = \"xyz\"\n",
    "newstring_1 = string_2[:2]+string_1[2]\n",
    "newstring_2 = string_1[:2]+string_2[2]\n",
    "print(f\"Result : {newstring_1 + ' ' +newstring_2}\")"
   ]
  },
  {
   "cell_type": "code",
   "execution_count": 215,
   "metadata": {},
   "outputs": [
    {
     "name": "stdout",
     "output_type": "stream",
     "text": [
      "abcd\n",
      "===============\n",
      "dbca: abcd\n"
     ]
    }
   ],
   "source": [
    "# String 2\n",
    "# Write a Python program to change a given string to a new string where the first and last chars have been exchanged.\n",
    "# Sample String : 'dbca'\n",
    "# Expected Result : 'abcd'\n",
    "\n",
    "sample_string = \"dbca\"\n",
    "\n",
    "new_string = sample_string[3]+sample_string[1:3]+sample_string[0]\n",
    "print(new_string)\n",
    "\n",
    "# Other Option\n",
    "print('='*15)\n",
    "text = input('input string : dbca:')\n",
    "newtext = text[-1]+text[1:-1]+text[0]\n",
    "print('dbca:', newtext)\n"
   ]
  },
  {
   "cell_type": "code",
   "execution_count": 218,
   "metadata": {},
   "outputs": [
    {
     "data": {
      "text/plain": [
       "['Tokyo', 'Surabaya', 'Yogyakarta', 'Medan', 'Paris']"
      ]
     },
     "execution_count": 218,
     "metadata": {},
     "output_type": "execute_result"
    }
   ],
   "source": [
    "cities = ['Tokyo', 'Surabaya', 'Yogyakarta', 'Medan', 'Paris']\n",
    "cities"
   ]
  },
  {
   "cell_type": "code",
   "execution_count": 219,
   "metadata": {},
   "outputs": [
    {
     "data": {
      "text/plain": [
       "['Tokyo',\n",
       " 'Surabaya',\n",
       " 'Yogyakarta',\n",
       " 'Medan',\n",
       " 'Paris',\n",
       " 'Labuan Bajo',\n",
       " 'Kalimantan Selatan']"
      ]
     },
     "execution_count": 219,
     "metadata": {},
     "output_type": "execute_result"
    }
   ],
   "source": [
    "cities = cities + ['Labuan Bajo', 'Kalimantan Selatan']\n",
    "cities"
   ]
  },
  {
   "cell_type": "code",
   "execution_count": 220,
   "metadata": {},
   "outputs": [
    {
     "name": "stdout",
     "output_type": "stream",
     "text": [
      "Tokyo\n",
      "Surabaya\n",
      "Yogyakarta\n",
      "Medan\n",
      "Paris\n",
      "Labuan Bajo\n",
      "Kalimantan Selatan\n"
     ]
    }
   ],
   "source": [
    "idx = 0\n",
    "\n",
    "while idx < len(cities):\n",
    "  print(cities[idx])\n",
    "  idx += 1 # idx = idx + 1"
   ]
  },
  {
   "cell_type": "markdown",
   "metadata": {},
   "source": [
    "### Day 2 Conditional & Looping"
   ]
  },
  {
   "cell_type": "code",
   "execution_count": 271,
   "metadata": {},
   "outputs": [
    {
     "name": "stdout",
     "output_type": "stream",
     "text": [
      "list angka genap : [402, 984, 360, 408, 980, 544, 390, 984, 592, 236, 942, 386, 462, 418, 344, 236, 566, 978, 328, 162, 758, 918]\n",
      "=========== Done ============\n"
     ]
    }
   ],
   "source": [
    "\n",
    "# - Loop dan print semua angka genap dari list angka diatas dengan urutan yang sama. \n",
    "# - Jangan mencetak angka apapun yang muncul setelah angka 918 berdasarkan posisi angka tersebut pada list diatas.\n",
    "# \\Tampilkan pesan ”Done” setelah looping berakhir\" \n",
    "\n",
    "numbers = [951, 402, 984, 651, 360, 69, 408, 319, 601, 485, 980, 507, 725, 547, 544, 615, \n",
    "83, 165, 141, 501, 263, 617, 865, 575, 219, 390, 984, 592, 236, 105, 942, 941, 386, 462, \n",
    "47, 418, 907, 344, 236, 375, 823, 566, 597, 978, 328, 615, 953, 345, 399, 162, 758, 219, 918, \n",
    "237, 412, 566, 826, 248, 866, 950, 626, 949] #selesai pada bagian ini\n",
    "\n",
    "angka_genap = []\n",
    "for number_new in numbers:\n",
    "    if number_new == 237:\n",
    "        break\n",
    "    if number_new % 2 == 1:\n",
    "        continue\n",
    "    number_new\n",
    "    angka_genap.append(number_new)\n",
    "print(f\"list angka genap : {angka_genap}\")\n",
    "print(\"=========== Done ============\")  \n"
   ]
  },
  {
   "cell_type": "code",
   "execution_count": 272,
   "metadata": {},
   "outputs": [
    {
     "name": "stdout",
     "output_type": "stream",
     "text": [
      "402\n",
      "984\n",
      "360\n",
      "408\n",
      "980\n",
      "544\n",
      "390\n",
      "984\n",
      "592\n",
      "236\n",
      "942\n",
      "386\n",
      "462\n",
      "418\n",
      "344\n",
      "236\n",
      "566\n",
      "978\n",
      "328\n",
      "162\n",
      "758\n",
      "918\n",
      "Done\n"
     ]
    }
   ],
   "source": [
    "# Other Option\n",
    "\n",
    "numbers = [951, 402, 984, 651, 360, 69, 408, 319, 601, 485, 980, 507, 725, 547, 544, 615, \n",
    "83, 165, 141, 501, 263, 617, 865, 575, 219, 390, 984, 592, 236, 105, 942, 941, 386, 462, \n",
    "47, 418, 907, 344, 236, 375, 823, 566, 597, 978, 328, 615, 953, 345, 399, 162, 758, 219, 918, \n",
    "237, 412, 566, 826, 248, 866, 950, 626, 949] #selesai pada bagian ini\n",
    "\n",
    "for number_new in numbers:\n",
    "    if number_new == 237:\n",
    "        break\n",
    "    if number_new % 2 == 1:\n",
    "        continue\n",
    "    print(number_new)\n",
    "print(\"Done\")  "
   ]
  },
  {
   "cell_type": "code",
   "execution_count": null,
   "metadata": {},
   "outputs": [],
   "source": []
  }
 ],
 "metadata": {
  "kernelspec": {
   "display_name": "Python 3.9.7 ('base')",
   "language": "python",
   "name": "python3"
  },
  "language_info": {
   "codemirror_mode": {
    "name": "ipython",
    "version": 3
   },
   "file_extension": ".py",
   "mimetype": "text/x-python",
   "name": "python",
   "nbconvert_exporter": "python",
   "pygments_lexer": "ipython3",
   "version": "3.9.7"
  },
  "orig_nbformat": 4,
  "vscode": {
   "interpreter": {
    "hash": "ad2bdc8ecc057115af97d19610ffacc2b4e99fae6737bb82f5d7fb13d2f2c186"
   }
  }
 },
 "nbformat": 4,
 "nbformat_minor": 2
}
