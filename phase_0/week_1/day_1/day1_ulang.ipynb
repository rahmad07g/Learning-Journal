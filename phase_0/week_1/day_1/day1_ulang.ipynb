{
 "cells": [
  {
   "cell_type": "markdown",
   "metadata": {},
   "source": [
    "## Ini adalah Sebuah Latihan"
   ]
  },
  {
   "cell_type": "code",
   "execution_count": 1,
   "metadata": {},
   "outputs": [
    {
     "name": "stdout",
     "output_type": "stream",
     "text": [
      "pesanan anda adalah somay dan lemon tee \n"
     ]
    }
   ],
   "source": [
    "pesanan_1 = input (\"masukan pesanan makanan anda : \")\n",
    "pesanan_2 = input (\"masukan pesanan minuman anda : \")\n",
    "\n",
    "print(f\"pesanan anda adalah {pesanan_1} dan {pesanan_2} \")"
   ]
  },
  {
   "cell_type": "markdown",
   "metadata": {},
   "source": [
    "### Perhitungan Sederhana"
   ]
  },
  {
   "cell_type": "code",
   "execution_count": 3,
   "metadata": {},
   "outputs": [
    {
     "name": "stdout",
     "output_type": "stream",
     "text": [
      "hasil perhitungan : 35\n"
     ]
    }
   ],
   "source": [
    "input_1 = input (\"masukan angka pertama : \")\n",
    "input_1 = eval(input_1)\n",
    "input_2 = input (\"masukan angka kedua : \")\n",
    "input_2 = eval(input_2)\n",
    "\n",
    "print(f\"hasil perhitungan : {input_1 + input_2}\")"
   ]
  },
  {
   "cell_type": "code",
   "execution_count": 5,
   "metadata": {},
   "outputs": [
    {
     "name": "stdout",
     "output_type": "stream",
     "text": [
      "a :50\n",
      "b :50\n",
      "c :50\n"
     ]
    }
   ],
   "source": [
    "#var assignment\n",
    "\n",
    "a=b=c=50\n",
    "print(f\"a : {a}\")\n",
    "print(f\"b : {b}\")\n",
    "print(f\"c : {c}\")"
   ]
  },
  {
   "cell_type": "code",
   "execution_count": null,
   "metadata": {},
   "outputs": [],
   "source": []
  }
 ],
 "metadata": {
  "kernelspec": {
   "display_name": "Python 3.9.7 ('base')",
   "language": "python",
   "name": "python3"
  },
  "language_info": {
   "codemirror_mode": {
    "name": "ipython",
    "version": 3
   },
   "file_extension": ".py",
   "mimetype": "text/x-python",
   "name": "python",
   "nbconvert_exporter": "python",
   "pygments_lexer": "ipython3",
   "version": "3.9.7"
  },
  "orig_nbformat": 4,
  "vscode": {
   "interpreter": {
    "hash": "ad2bdc8ecc057115af97d19610ffacc2b4e99fae6737bb82f5d7fb13d2f2c186"
   }
  }
 },
 "nbformat": 4,
 "nbformat_minor": 2
}
