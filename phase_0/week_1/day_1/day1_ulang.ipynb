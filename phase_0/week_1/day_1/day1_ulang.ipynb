{
 "cells": [
  {
   "cell_type": "markdown",
   "metadata": {},
   "source": [
    "## Ini adalah Sebuah Latihan"
   ]
  },
  {
   "cell_type": "code",
   "execution_count": 1,
   "metadata": {},
   "outputs": [
    {
     "name": "stdout",
     "output_type": "stream",
     "text": [
      "pesanan anda adalah somay dan lemon tee \n"
     ]
    }
   ],
   "source": [
    "pesanan_1 = input (\"masukan pesanan makanan anda : \")\n",
    "pesanan_2 = input (\"masukan pesanan minuman anda : \")\n",
    "\n",
    "print(f\"pesanan anda adalah {pesanan_1} dan {pesanan_2} \")"
   ]
  },
  {
   "cell_type": "markdown",
   "metadata": {},
   "source": [
    "### Perhitungan Sederhana"
   ]
  },
  {
   "cell_type": "code",
   "execution_count": 3,
   "metadata": {},
   "outputs": [
    {
     "name": "stdout",
     "output_type": "stream",
     "text": [
      "hasil perhitungan : 35\n"
     ]
    }
   ],
   "source": [
    "input_1 = input (\"masukan angka pertama : \")\n",
    "input_1 = eval(input_1)\n",
    "input_2 = input (\"masukan angka kedua : \")\n",
    "input_2 = eval(input_2)\n",
    "\n",
    "print(f\"hasil perhitungan : {input_1 + input_2}\")"
   ]
  },
  {
   "cell_type": "code",
   "execution_count": 6,
   "metadata": {},
   "outputs": [
    {
     "name": "stdout",
     "output_type": "stream",
     "text": [
      "a : 50\n",
      "b : 50\n",
      "c : 50\n"
     ]
    }
   ],
   "source": [
    "#var assignment\n",
    "\n",
    "a=b=c=50\n",
    "print(f\"a : {a}\")\n",
    "print(f\"b : {b}\")\n",
    "print(f\"c : {c}\")"
   ]
  },
  {
   "cell_type": "code",
   "execution_count": 9,
   "metadata": {},
   "outputs": [
    {
     "name": "stdout",
     "output_type": "stream",
     "text": [
      "4\n",
      "Loop ended.\n",
      "3\n",
      "Loop ended.\n"
     ]
    }
   ],
   "source": [
    "n = 5\n",
    "while n > 0:    \n",
    "    n -= 1    \n",
    "    if n == 2:        \n",
    "        break # Break Statement    \n",
    "    print(n)\n",
    "    print('Loop ended.')rf[c\n",
    "    fh[f]]"
   ]
  },
  {
   "cell_type": "markdown",
   "metadata": {},
   "source": [
    "# day 2 conditional & looping"
   ]
  },
  {
   "cell_type": "code",
   "execution_count": 1,
   "metadata": {},
   "outputs": [],
   "source": [
    "# variable\n",
    "x =\"hallo\""
   ]
  },
  {
   "cell_type": "code",
   "execution_count": 2,
   "metadata": {},
   "outputs": [
    {
     "data": {
      "text/plain": [
       "'hallo'"
      ]
     },
     "execution_count": 2,
     "metadata": {},
     "output_type": "execute_result"
    }
   ],
   "source": [
    "x"
   ]
  },
  {
   "cell_type": "code",
   "execution_count": 3,
   "metadata": {},
   "outputs": [
    {
     "data": {
      "text/plain": [
       "5.5"
      ]
     },
     "execution_count": 3,
     "metadata": {},
     "output_type": "execute_result"
    }
   ],
   "source": [
    "k = 5.5\n",
    "k"
   ]
  },
  {
   "cell_type": "markdown",
   "metadata": {},
   "source": [
    "## Conditional"
   ]
  },
  {
   "cell_type": "code",
   "execution_count": 10,
   "metadata": {},
   "outputs": [
    {
     "ename": "IndentationError",
     "evalue": "unexpected indent (Temp/ipykernel_14396/3990231873.py, line 7)",
     "output_type": "error",
     "traceback": [
      "\u001b[1;36m  File \u001b[1;32m\"C:\\Users\\rahma\\AppData\\Local\\Temp/ipykernel_14396/3990231873.py\"\u001b[1;36m, line \u001b[1;32m7\u001b[0m\n\u001b[1;33m    if False :\u001b[0m\n\u001b[1;37m    ^\u001b[0m\n\u001b[1;31mIndentationError\u001b[0m\u001b[1;31m:\u001b[0m unexpected indent\n"
     ]
    }
   ],
   "source": [
    "# if <kondisi> : (dapat menggunakan operator matematika ; <, >, =)\n",
    "   # <statement> (code block/ dapat satu baris atau lebih)\n",
    "   # <statement>\n",
    "\n",
    "   # boolean : true or false\n"
   ]
  },
  {
   "cell_type": "code",
   "execution_count": 12,
   "metadata": {},
   "outputs": [
    {
     "name": "stdout",
     "output_type": "stream",
     "text": [
      "hallo\n",
      "statement_2\n"
     ]
    }
   ],
   "source": [
    "   if True:\n",
    "        print('hallo')\n",
    "        print('statement_2')"
   ]
  },
  {
   "cell_type": "code",
   "execution_count": 39,
   "metadata": {},
   "outputs": [
    {
     "name": "stdout",
     "output_type": "stream",
     "text": [
      "15 diatas 10 dibawah 20\n"
     ]
    }
   ],
   "source": [
    "nomor = 15\n",
    "if nomor > 30:\n",
    "    print(f\"{nomor} diatas 30\")\n",
    "elif nomor == 30:\n",
    "    print(f\"{nomor} sama dengan 30\")\n",
    "elif 10 < nomor < 20:\n",
    "    print(f\"{nomor} diatas 10 dibawah 20\")\n",
    "else:\n",
    "    print(f\"{nomor} di bawah 30\")    \n",
    "\n",
    "    # [] untuk pembuatan list, atau indexing\n",
    "    # () tuple, atau function\n",
    "    # {} untuk set ataupun dictionary, merubah string menjadi variabel/angka\n",
    "    # if bisa berdiri sendiri\n",
    "    # namun elif dan else tidak bisa berdiri tanpa if"
   ]
  },
  {
   "cell_type": "markdown",
   "metadata": {},
   "source": [
    "### Latihan"
   ]
  },
  {
   "cell_type": "code",
   "execution_count": 42,
   "metadata": {},
   "outputs": [
    {
     "ename": "SyntaxError",
     "evalue": "illegal target for annotation (Temp/ipykernel_14396/2464108236.py, line 1)",
     "output_type": "error",
     "traceback": [
      "\u001b[1;36m  File \u001b[1;32m\"C:\\Users\\rahma\\AppData\\Local\\Temp/ipykernel_14396/2464108236.py\"\u001b[1;36m, line \u001b[1;32m1\u001b[0m\n\u001b[1;33m    - A : 80 <= x <= 100\u001b[0m\n\u001b[1;37m    ^\u001b[0m\n\u001b[1;31mSyntaxError\u001b[0m\u001b[1;31m:\u001b[0m illegal target for annotation\n"
     ]
    }
   ],
   "source": [
    "- A : 80 <= x <= 100\n",
    "- B : 70 <= x < 80\n",
    "- C : 60 <= x < 70\n",
    "- D : 40 <= x < 60\n",
    "- E : 0 <= x < 40\n",
    "\n",
    "nilai = 15\n",
    "if nilai >= 80:\n",
    "    print(f\"{nilai} nilai sama dengan A\")\n",
    "elif 70 <= nilai < 80:\n",
    "    print(f\"{nilai} nilai sama dengan B\")\n",
    "elif 60 <= nilai < 70:\n",
    "    print(f\"{nilai} nilai sama dengan C\")\n",
    "elif 40 <= nilai < 60:\n",
    "    print(f\"{nilai} nilai sama dengan D\")\n",
    "else:\n",
    "    print(f\"{nilai} nilai sama dengan E\")    \n"
   ]
  },
  {
   "cell_type": "code",
   "execution_count": 52,
   "metadata": {},
   "outputs": [
    {
     "ename": "IndentationError",
     "evalue": "expected an indented block (Temp/ipykernel_14396/3270265409.py, line 8)",
     "output_type": "error",
     "traceback": [
      "\u001b[1;36m  File \u001b[1;32m\"C:\\Users\\rahma\\AppData\\Local\\Temp/ipykernel_14396/3270265409.py\"\u001b[1;36m, line \u001b[1;32m8\u001b[0m\n\u001b[1;33m    print(f\"{nilai} nilai sama dengan A\")\u001b[0m\n\u001b[1;37m    ^\u001b[0m\n\u001b[1;31mIndentationError\u001b[0m\u001b[1;31m:\u001b[0m expected an indented block\n"
     ]
    }
   ],
   "source": [
    "\n",
    "# nilai = input(\"Masukkan Angka Pertama :\")\n",
    "# nilai = eval(input)\n",
    "\n",
    "nilai = eval(input(\"Masukkan Nilai :\"))\n",
    "\n",
    "if 0 <= nilai <= 100:\n",
    "    if nilai >= 80:\n",
    "    print(f\"{nilai} nilai sama dengan A\")\n",
    "    elif 70 <= nilai < 80:\n",
    "    print(f\"{nilai} nilai sama dengan B\")\n",
    "    elif 60 <= nilai < 70:\n",
    "    print(f\"{nilai} nilai sama dengan C\")\n",
    "    elif 40 <= nilai < 60:\n",
    "    print(f\"{nilai} nilai sama dengan D\")\n",
    "    else:\n",
    "    print(f\"{nilai} nilai sama dengan E\") \n",
    "else:\n",
    "    print(f\"{nilai} tidak valid\")\n",
    "\n",
    "    # pakai and atau or juga bisa"
   ]
  },
  {
   "cell_type": "code",
   "execution_count": 59,
   "metadata": {},
   "outputs": [
    {
     "ename": "IndentationError",
     "evalue": "expected an indented block (Temp/ipykernel_14396/3394365001.py, line 5)",
     "output_type": "error",
     "traceback": [
      "\u001b[1;36m  File \u001b[1;32m\"C:\\Users\\rahma\\AppData\\Local\\Temp/ipykernel_14396/3394365001.py\"\u001b[1;36m, line \u001b[1;32m5\u001b[0m\n\u001b[1;33m    print(f\"{nilai} nilai sama dengan A\")\u001b[0m\n\u001b[1;37m    ^\u001b[0m\n\u001b[1;31mIndentationError\u001b[0m\u001b[1;31m:\u001b[0m expected an indented block\n"
     ]
    }
   ],
   "source": [
    "nilai = eval(input(\"Masukkan Nilai :\"))\n",
    "\n",
    "if 0 <= nilai <= 100:\n",
    "    if nilai > 80:\n",
    "    print(f\"{nilai} nilai sama dengan A\")\n",
    "    elif 70 <= nilai < 80:\n",
    "    print(f\"{nilai} nilai sama dengan B\")\n",
    "    elif 60 <= nilai < 70:\n",
    "    print(f\"{nilai} nilai sama dengan C\")\n",
    "    elif 40 <= nilai < 60:\n",
    "    print(f\"{nilai} nilai sama dengan D\")\n",
    "    else:\n",
    "    print(f\"{nilai} nilai sama dengan E\") \n",
    "\n",
    "# else:\n",
    "  #  print(f\"{nilai} tidak valid\")"
   ]
  },
  {
   "cell_type": "code",
   "execution_count": 56,
   "metadata": {},
   "outputs": [
    {
     "data": {
      "text/plain": [
       "['Tokyo', 'Surabaya', 'Yogyakarta', 'Medan', 'Paris']"
      ]
     },
     "execution_count": 56,
     "metadata": {},
     "output_type": "execute_result"
    }
   ],
   "source": [
    "cities = [\"Tokyo\", \"Surabaya\", \"Yogyakarta\", \"Medan\", \"Paris\"]\n",
    "cities"
   ]
  },
  {
   "cell_type": "code",
   "execution_count": 58,
   "metadata": {},
   "outputs": [
    {
     "name": "stdout",
     "output_type": "stream",
     "text": [
      "Tokyo berada dalam list ['Tokyo', 'Surabaya', 'Yogyakarta', 'Medan', 'Paris']\n"
     ]
    }
   ],
   "source": [
    "kota = \"Tokyo\"\n",
    "\n",
    "if kota in cities :\n",
    "    print(f\"{kota} berada dalam list {cities}\")"
   ]
  },
  {
   "cell_type": "markdown",
   "metadata": {},
   "source": [
    "### While Loop"
   ]
  },
  {
   "cell_type": "code",
   "execution_count": null,
   "metadata": {},
   "outputs": [],
   "source": [
    "# if <kondisi> : (dapat menggunakan operator matematika ; <, >, =)\n",
    "   # <statement> (code block/ dapat satu baris atau lebih)\n",
    "   # <statement>\n",
    "\n",
    "   # boolean : true or false\n",
    "\n",
    "# while <kondisi>\n",
    "   # <statement> (code block/ dapat satu baris atau lebih)\n",
    "   # <statement>\n",
    "   # definisikan kondisi\n",
    "   # true => false\n",
    "   # update variabel"
   ]
  },
  {
   "cell_type": "code",
   "execution_count": null,
   "metadata": {},
   "outputs": [],
   "source": [
    "while True:\n",
    "    print(\"hallo\")\n",
    "    print(\"statement_2\")\n",
    "\n",
    "    #infinite loop"
   ]
  },
  {
   "cell_type": "code",
   "execution_count": 61,
   "metadata": {},
   "outputs": [],
   "source": [
    "angka = 4"
   ]
  },
  {
   "cell_type": "code",
   "execution_count": 67,
   "metadata": {},
   "outputs": [
    {
     "data": {
      "text/plain": [
       "8"
      ]
     },
     "execution_count": 67,
     "metadata": {},
     "output_type": "execute_result"
    }
   ],
   "source": [
    "angka = angka + 1\n",
    "angka"
   ]
  },
  {
   "cell_type": "code",
   "execution_count": 68,
   "metadata": {},
   "outputs": [
    {
     "name": "stdout",
     "output_type": "stream",
     "text": [
      "0\n",
      "1\n",
      "2\n",
      "3\n",
      "4\n"
     ]
    }
   ],
   "source": [
    "i = 0\n",
    "\n",
    "while i < 5:\n",
    "    print(i)\n",
    "    i = i + 1"
   ]
  },
  {
   "cell_type": "code",
   "execution_count": 72,
   "metadata": {},
   "outputs": [
    {
     "name": "stdout",
     "output_type": "stream",
     "text": [
      "5 x 1 = 5\n",
      "5 x 2 = 10\n",
      "5 x 3 = 15\n",
      "5 x 4 = 20\n",
      "5 x 5 = 25\n",
      "5 x 6 = 30\n",
      "5 x 7 = 35\n",
      "5 x 8 = 40\n",
      "5 x 9 = 45\n",
      "5 x 10 = 50\n"
     ]
    }
   ],
   "source": [
    "# nested while\n",
    "\n",
    "i = 1\n",
    "\n",
    "while i <= 10:\n",
    "    print(f\"5 x {i} = {5*i}\")\n",
    "    i = i + 1"
   ]
  },
  {
   "cell_type": "code",
   "execution_count": null,
   "metadata": {},
   "outputs": [],
   "source": [
    "i = 1\n",
    "j = 1\n",
    "\n",
    "while i <= 10: # i kurang dari 10 ttp executing\n",
    "    while j <= 10: # j kurang dari 10 ttp executing\n",
    "        print(f\"{i} x {j} = {i*j}\") \n",
    "        j = j + 1\n",
    "    print (\"=\" * 10)\n",
    "    i = i + 1   \n",
    "    j = 1"
   ]
  },
  {
   "cell_type": "code",
   "execution_count": 76,
   "metadata": {},
   "outputs": [],
   "source": [
    "### for loop\n",
    "## for <temp var> m <set of value>\n",
    "# < statement >\n",
    "# < statement >\n",
    "# temp dapat berupa (list, tuple, array, dictionary)"
   ]
  },
  {
   "cell_type": "code",
   "execution_count": 77,
   "metadata": {},
   "outputs": [
    {
     "data": {
      "text/plain": [
       "['Tokyo',\n",
       " 'Surabaya',\n",
       " 'Yogyakarta',\n",
       " 'Medan',\n",
       " 'Paris',\n",
       " 'Labuan Bajo',\n",
       " 'Kalimantan Selatan']"
      ]
     },
     "execution_count": 77,
     "metadata": {},
     "output_type": "execute_result"
    }
   ],
   "source": [
    "cities = cities + [\"Labuan Bajo\", \"Kalimantan Selatan\"]\n",
    "cities"
   ]
  },
  {
   "cell_type": "code",
   "execution_count": 78,
   "metadata": {},
   "outputs": [
    {
     "name": "stdout",
     "output_type": "stream",
     "text": [
      "Tokyo\n",
      "Surabaya\n",
      "Yogyakarta\n",
      "Medan\n",
      "Paris\n",
      "Labuan Bajo\n",
      "Kalimantan Selatan\n"
     ]
    }
   ],
   "source": [
    "for i in cities:\n",
    "    print (i)"
   ]
  },
  {
   "cell_type": "code",
   "execution_count": 79,
   "metadata": {},
   "outputs": [
    {
     "name": "stdout",
     "output_type": "stream",
     "text": [
      "1\n",
      "2\n",
      "3\n",
      "4\n",
      "5\n",
      "6\n",
      "7\n",
      "8\n",
      "9\n"
     ]
    }
   ],
   "source": [
    "for i in range (1,10): #range adalah (x,y), x nilai awal dan y nilai akhir -1\n",
    "    print (i)"
   ]
  },
  {
   "cell_type": "code",
   "execution_count": 81,
   "metadata": {},
   "outputs": [
    {
     "data": {
      "text/plain": [
       "[1, 2, 3, 4, 5, 6, 7, 8, 9]"
      ]
     },
     "execution_count": 81,
     "metadata": {},
     "output_type": "execute_result"
    }
   ],
   "source": [
    "list(range(1,10))"
   ]
  },
  {
   "cell_type": "code",
   "execution_count": 83,
   "metadata": {},
   "outputs": [
    {
     "name": "stdout",
     "output_type": "stream",
     "text": [
      "5*1 = 5\n",
      "5*2 = 10\n",
      "5*3 = 15\n",
      "5*4 = 20\n",
      "5*5 = 25\n",
      "5*6 = 30\n",
      "5*7 = 35\n",
      "5*8 = 40\n",
      "5*9 = 45\n",
      "5*10 = 50\n"
     ]
    }
   ],
   "source": [
    "for i in range (1,11) :\n",
    "    print (f\"5*{i} = {5*i}\")"
   ]
  },
  {
   "cell_type": "code",
   "execution_count": null,
   "metadata": {},
   "outputs": [],
   "source": [
    "i = 1\n",
    "j = 1\n",
    "\n",
    "while i <= 10: # i kurang dari 10 ttp executing\n",
    "    while j <= 10: # j kurang dari 10 ttp executing\n",
    "        print(f\"{i} x {j} = {i*j}\") \n",
    "        j = j + 1\n",
    "    print (\"=\" * 10)\n",
    "    i = i + 1   \n",
    "    j = 1"
   ]
  },
  {
   "cell_type": "code",
   "execution_count": null,
   "metadata": {},
   "outputs": [],
   "source": [
    "for i in range (1,11) :\n",
    "    for j in range (1,11):\n",
    "        print (f\"{i} x {j} = {i*j}\")\n",
    "    print (\"=\" * 10)"
   ]
  },
  {
   "cell_type": "code",
   "execution_count": 87,
   "metadata": {},
   "outputs": [
    {
     "name": "stdout",
     "output_type": "stream",
     "text": [
      "Tokyo\n",
      "Surabaya\n",
      "Yogyakarta\n",
      "Medan\n",
      "Paris\n",
      "Labuan Bajo\n",
      "Kalimantan Selatan\n"
     ]
    }
   ],
   "source": [
    "for i in cities:\n",
    "    print (i)\n"
   ]
  },
  {
   "cell_type": "code",
   "execution_count": null,
   "metadata": {},
   "outputs": [],
   "source": [
    "idx = 0\n",
    "\n",
    "while idx <len(cities):\n",
    "    print (cities[idx])\n",
    "    idx = idx + 1  #idx += 1"
   ]
  },
  {
   "cell_type": "markdown",
   "metadata": {},
   "source": [
    "### flow control Statement"
   ]
  },
  {
   "cell_type": "code",
   "execution_count": null,
   "metadata": {},
   "outputs": [],
   "source": [
    "# continue\n",
    "for i in range (0,11):\n",
    "    if i in [2, 5, 7,9]:\n",
    "        continue\n",
    "    print (i)"
   ]
  },
  {
   "cell_type": "code",
   "execution_count": 93,
   "metadata": {},
   "outputs": [
    {
     "name": "stdout",
     "output_type": "stream",
     "text": [
      "0\n",
      "1\n"
     ]
    }
   ],
   "source": [
    "# break\n",
    "for i in range (0,11):\n",
    "    if i in [2, 5, 7,9]:\n",
    "        break\n",
    "    print (i)"
   ]
  },
  {
   "cell_type": "code",
   "execution_count": null,
   "metadata": {},
   "outputs": [],
   "source": [
    "i = 1\n",
    "j = 1\n",
    "\n",
    "while i <= 10: # i kurang dari 10 ttp executing\n",
    "    while j <= 10: # j kurang dari 10 ttp executing\n",
    "        i = i + 1   \n",
    "        j = 1\n",
    "        if i in [4,5,6]:\n",
    "          continue\n",
    "        while j <= 10:\n",
    "            print(f\"{i} x {j} = {i*j}\") \n",
    "            j = j + 1\n",
    "        print(\"=\" * 10)"
   ]
  },
  {
   "cell_type": "code",
   "execution_count": 101,
   "metadata": {},
   "outputs": [
    {
     "data": {
      "text/plain": [
       "[6, 7, 8, 9, 10]"
      ]
     },
     "execution_count": 101,
     "metadata": {},
     "output_type": "execute_result"
    }
   ],
   "source": [
    "angka = [1,2,3,4,5,6,7,8,9,10]\n",
    "\n",
    "above_5 = []\n",
    "\n",
    "for i in angka:\n",
    "    if i > 5:\n",
    "        above_5.append(i)\n",
    "\n",
    "above_5"
   ]
  },
  {
   "cell_type": "code",
   "execution_count": 103,
   "metadata": {},
   "outputs": [
    {
     "data": {
      "text/plain": [
       "{'rafif': 70, 'dwi': 80, 'ezar': 85}"
      ]
     },
     "execution_count": 103,
     "metadata": {},
     "output_type": "execute_result"
    }
   ],
   "source": [
    "d = {\"rafif\":70, \"dwi\":80, \"ezar\":85}\n",
    "d "
   ]
  },
  {
   "cell_type": "code",
   "execution_count": 104,
   "metadata": {},
   "outputs": [
    {
     "data": {
      "text/plain": [
       "dict_keys(['rafif', 'dwi', 'ezar'])"
      ]
     },
     "execution_count": 104,
     "metadata": {},
     "output_type": "execute_result"
    }
   ],
   "source": [
    "d.keys()"
   ]
  },
  {
   "cell_type": "code",
   "execution_count": 105,
   "metadata": {},
   "outputs": [
    {
     "data": {
      "text/plain": [
       "dict_values([70, 80, 85])"
      ]
     },
     "execution_count": 105,
     "metadata": {},
     "output_type": "execute_result"
    }
   ],
   "source": [
    "d.values()\n"
   ]
  },
  {
   "cell_type": "code",
   "execution_count": 106,
   "metadata": {},
   "outputs": [
    {
     "data": {
      "text/plain": [
       "dict_items([('rafif', 70), ('dwi', 80), ('ezar', 85)])"
      ]
     },
     "execution_count": 106,
     "metadata": {},
     "output_type": "execute_result"
    }
   ],
   "source": [
    "d.items()"
   ]
  },
  {
   "cell_type": "code",
   "execution_count": 107,
   "metadata": {},
   "outputs": [
    {
     "name": "stdout",
     "output_type": "stream",
     "text": [
      "rafif dengan nilai 70\n",
      "dwi dengan nilai 80\n",
      "ezar dengan nilai 85\n"
     ]
    }
   ],
   "source": [
    "for nama, nilai in d.items ():\n",
    "    print (nama, \"dengan nilai\", nilai)"
   ]
  },
  {
   "cell_type": "code",
   "execution_count": 113,
   "metadata": {},
   "outputs": [
    {
     "data": {
      "text/plain": [
       "{'rafif': 'B', 'dwi': 'A', 'ezar': 'A'}"
      ]
     },
     "execution_count": 113,
     "metadata": {},
     "output_type": "execute_result"
    }
   ],
   "source": [
    "grade = {}\n",
    "\n",
    "for nama, x in d.items():\n",
    "    if 0 <= x <= 100:\n",
    "        if 80 <= x:\n",
    "            grade[nama] = \"A\"\n",
    "        elif 70 <= x: \n",
    "            grade[nama] = \"B\"\n",
    "        elif x >= 60: \n",
    "            grade[nama] = \"C\"   \n",
    "        elif x >= 40: \n",
    "            grade[nama] = \"D\"   \n",
    "        else:\n",
    "            grade[nama] = \"E\"   \n",
    "    else :\n",
    "        print(\"Angka Tidak Valid\")\n",
    "\n",
    "grade"
   ]
  },
  {
   "cell_type": "code",
   "execution_count": null,
   "metadata": {},
   "outputs": [],
   "source": [
    "\n",
    "\n"
   ]
  },
  {
   "cell_type": "code",
   "execution_count": null,
   "metadata": {},
   "outputs": [],
   "source": []
  }
 ],
 "metadata": {
  "kernelspec": {
   "display_name": "Python 3.9.7 ('base')",
   "language": "python",
   "name": "python3"
  },
  "language_info": {
   "codemirror_mode": {
    "name": "ipython",
    "version": 3
   },
   "file_extension": ".py",
   "mimetype": "text/x-python",
   "name": "python",
   "nbconvert_exporter": "python",
   "pygments_lexer": "ipython3",
   "version": "3.9.7"
  },
  "orig_nbformat": 4,
  "vscode": {
   "interpreter": {
    "hash": "ad2bdc8ecc057115af97d19610ffacc2b4e99fae6737bb82f5d7fb13d2f2c186"
   }
  }
 },
 "nbformat": 4,
 "nbformat_minor": 2
}
