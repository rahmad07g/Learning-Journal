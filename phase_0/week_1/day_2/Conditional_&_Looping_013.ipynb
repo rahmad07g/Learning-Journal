{
  "nbformat": 4,
  "nbformat_minor": 0,
  "metadata": {
    "colab": {
      "name": "Conditional_&_Looping_013.ipynb",
      "provenance": []
    },
    "kernelspec": {
      "name": "python3",
      "display_name": "Python 3"
    },
    "language_info": {
      "name": "python"
    }
  },
  "cells": [
    {
      "cell_type": "code",
      "source": [
        "# variable\n",
        "x = \"hallo\""
      ],
      "metadata": {
        "id": "sXxAPCl46Zp_"
      },
      "execution_count": null,
      "outputs": []
    },
    {
      "cell_type": "code",
      "source": [
        "x"
      ],
      "metadata": {
        "colab": {
          "base_uri": "https://localhost:8080/",
          "height": 35
        },
        "id": "FumQcTzJ6xPE",
        "outputId": "63c88845-e1d2-42e3-de99-e8fb8590944b"
      },
      "execution_count": null,
      "outputs": [
        {
          "output_type": "execute_result",
          "data": {
            "text/plain": [
              "'hallo'"
            ],
            "application/vnd.google.colaboratory.intrinsic+json": {
              "type": "string"
            }
          },
          "metadata": {},
          "execution_count": 4
        }
      ]
    },
    {
      "cell_type": "code",
      "source": [
        "y = 5\n",
        "y"
      ],
      "metadata": {
        "colab": {
          "base_uri": "https://localhost:8080/"
        },
        "id": "FbZAgyQu64-Z",
        "outputId": "2f124d46-bd2b-421a-f46d-cf1a329f05a7"
      },
      "execution_count": null,
      "outputs": [
        {
          "output_type": "execute_result",
          "data": {
            "text/plain": [
              "5"
            ]
          },
          "metadata": {},
          "execution_count": 6
        }
      ]
    },
    {
      "cell_type": "code",
      "source": [
        "k = 5.5\n",
        "k"
      ],
      "metadata": {
        "colab": {
          "base_uri": "https://localhost:8080/"
        },
        "id": "NpbWyvm47GRF",
        "outputId": "a23fc722-e7cb-449b-8e36-1282379e9eba"
      },
      "execution_count": null,
      "outputs": [
        {
          "output_type": "execute_result",
          "data": {
            "text/plain": [
              "5.5"
            ]
          },
          "metadata": {},
          "execution_count": 8
        }
      ]
    },
    {
      "cell_type": "markdown",
      "source": [
        "## Conditional"
      ],
      "metadata": {
        "id": "e1ZUrdhu7lH-"
      }
    },
    {
      "cell_type": "code",
      "source": [
        "if False:\n",
        "  print('halo')\n",
        "  print('statement 2')"
      ],
      "metadata": {
        "id": "zG9w7z8s7kVi"
      },
      "execution_count": null,
      "outputs": []
    },
    {
      "cell_type": "code",
      "source": [
        "nomor = 5\n",
        "\n",
        "if nomor > 30:\n",
        "  print(f'{nomor} di atas 30')\n",
        "elif nomor == 30:\n",
        "  print(f'{nomor} sama dengan 30')\n",
        "elif 10 < nomor < 20:\n",
        "  print(f'{nomor} di atas 10 di bawah 20')\n",
        "else:\n",
        "  print(f'{nomor} di bawah 10')"
      ],
      "metadata": {
        "colab": {
          "base_uri": "https://localhost:8080/"
        },
        "id": "E7fOYJND879E",
        "outputId": "0f04a6b1-f2eb-417d-ff54-3e5311de89e3"
      },
      "execution_count": null,
      "outputs": [
        {
          "output_type": "stream",
          "name": "stdout",
          "text": [
            "5 di bawah 10\n"
          ]
        }
      ]
    },
    {
      "cell_type": "markdown",
      "source": [
        "- A : 80 <= x <= 100\n",
        "- B : 70 <= x < 80\n",
        "- C : 60 <= x < 70\n",
        "- D : 40 <= x < 60\n",
        "- E : 0 <= x < 40"
      ],
      "metadata": {
        "id": "ucE1-DLHCSy2"
      }
    },
    {
      "cell_type": "code",
      "source": [
        "# r.g\n",
        "nilai = 101\n",
        "if nilai >= 80:\n",
        "    print(f\"{nilai} nilai sama dengan A\")\n",
        "elif 70 <= nilai < 80:\n",
        "    print(f\"{nilai} nilai sama dengan B\")\n",
        "elif 60 <= nilai < 70:\n",
        "    print(f\"{nilai} nilai sama dengan C\")\n",
        "elif 40 <= nilai < 60:\n",
        "    print(f\"{nilai} nilai sama dengan D\")\n",
        "else:\n",
        "    print(f\"{nilai} nilai sama dengan E\")"
      ],
      "metadata": {
        "colab": {
          "base_uri": "https://localhost:8080/"
        },
        "id": "3j87a9TU9JP0",
        "outputId": "5a1e0645-da16-4bba-87d8-9d6d730d59b7"
      },
      "execution_count": null,
      "outputs": [
        {
          "output_type": "stream",
          "name": "stdout",
          "text": [
            "101 nilai sama dengan A\n"
          ]
        }
      ]
    },
    {
      "cell_type": "code",
      "source": [
        "# i.y\n",
        "x = eval(input('Masukkan Nilai : '))\n",
        "\n",
        "if x >= 80 and x <= 100:\n",
        "    print(f'Nilai anda : A')\n",
        "elif x >= 70 and x < 80:\n",
        "    print(f'Nilai anda : B')\n",
        "elif x >= 60 and x < 70:\n",
        "    print(f'Nilai anda : C')\n",
        "elif x >= 40 and x < 60:\n",
        "    print(f'Nilai anda : D')\n",
        "elif x >= 0 and x < 40:\n",
        "    print(f'Nilai anda : E')"
      ],
      "metadata": {
        "colab": {
          "base_uri": "https://localhost:8080/"
        },
        "id": "DSKa4NxEDwfn",
        "outputId": "fdb585f0-bbd2-49a8-b009-cffd8e8b5135"
      },
      "execution_count": null,
      "outputs": [
        {
          "name": "stdout",
          "output_type": "stream",
          "text": [
            "Masukkan Nilai : -5\n"
          ]
        }
      ]
    },
    {
      "cell_type": "code",
      "source": [
        "# m.i\n",
        "nilai = eval(input ('Masukan Nilai Anda' ))\n",
        "if nilai < 40:\n",
        "    print (f'{nilai} adalah indeks E')\n",
        "elif nilai <60:\n",
        "    print (f'{nilai} adalah indeks D')\n",
        "elif nilai <80:\n",
        "    print (f'{nilai} adalah indeks B')\n",
        "else:\n",
        "    print(f'{nilai} adalah indeks A')"
      ],
      "metadata": {
        "colab": {
          "base_uri": "https://localhost:8080/"
        },
        "id": "XfOdzSImD96i",
        "outputId": "2b4a4ccf-71db-4c04-d82f-ee34e4d01e27"
      },
      "execution_count": null,
      "outputs": [
        {
          "output_type": "stream",
          "name": "stdout",
          "text": [
            "Masukan Nilai Anda90\n",
            "90 adalah indeks A\n"
          ]
        }
      ]
    },
    {
      "cell_type": "code",
      "source": [
        "# m.a.i\n",
        "nilai = 70\n",
        "if 80 <= nilai <= 100:\n",
        "    print(\"A\")\n",
        "elif 70 <= nilai <= 80:\n",
        "    print(\"B\")\n",
        "elif 60 <= nilai <= 70:\n",
        "    print(\"C\")\n",
        "elif 40 <= nilai <= 60:\n",
        "    print(\"D\")\n",
        "else:\n",
        "    print(\"E\")\n"
      ],
      "metadata": {
        "colab": {
          "base_uri": "https://localhost:8080/"
        },
        "id": "6vcfDl0LEEMI",
        "outputId": "70292f71-b70a-4d91-94d0-8d9b7f2416df"
      },
      "execution_count": null,
      "outputs": [
        {
          "output_type": "stream",
          "name": "stdout",
          "text": [
            "B\n"
          ]
        }
      ]
    },
    {
      "cell_type": "code",
      "source": [
        "# nested if\n",
        "x = 101\n",
        "\n",
        "if 0 <= x <= 100:\n",
        "  if 80 <= x:\n",
        "    print('grade A')\n",
        "  elif 70 <= x:\n",
        "    print('grade B')\n",
        "  elif x >= 60:\n",
        "    print('grade C')\n",
        "  elif x >= 40:\n",
        "    print('grade D')\n",
        "  else:\n",
        "    print('grade E')\n",
        "else:\n",
        "  print('Angka tidak valid')"
      ],
      "metadata": {
        "colab": {
          "base_uri": "https://localhost:8080/"
        },
        "id": "tEl1Dpr2FAVY",
        "outputId": "593df192-cfde-4b03-f39b-12338abd1c88"
      },
      "execution_count": null,
      "outputs": [
        {
          "output_type": "stream",
          "name": "stdout",
          "text": [
            "Angka tidak valid\n"
          ]
        }
      ]
    },
    {
      "cell_type": "code",
      "source": [
        "cities = ['Tokyo', 'Surabaya', 'Yogyakarta', 'Medan', 'Paris']\n",
        "cities"
      ],
      "metadata": {
        "colab": {
          "base_uri": "https://localhost:8080/"
        },
        "id": "nZEH_mmAF_8e",
        "outputId": "9540c395-a341-4cfd-bd4c-d06cbb1e6ba3"
      },
      "execution_count": null,
      "outputs": [
        {
          "output_type": "execute_result",
          "data": {
            "text/plain": [
              "['Tokyo', 'Surabaya', 'Yogyakarta', 'Medan', 'Paris']"
            ]
          },
          "metadata": {},
          "execution_count": 52
        }
      ]
    },
    {
      "cell_type": "code",
      "source": [
        "kota = 'Tokyo'\n",
        "\n",
        "if kota in cities:\n",
        "  print(f'{kota} berada dalam list cities')"
      ],
      "metadata": {
        "colab": {
          "base_uri": "https://localhost:8080/"
        },
        "id": "Zd6YM58xGQRj",
        "outputId": "b87c0f72-6d24-4aa8-c928-7fd01decd010"
      },
      "execution_count": null,
      "outputs": [
        {
          "output_type": "stream",
          "name": "stdout",
          "text": [
            "Tokyo berada dalam list cities\n"
          ]
        }
      ]
    },
    {
      "cell_type": "markdown",
      "source": [
        "## Looping"
      ],
      "metadata": {
        "id": "F1zOotU0HExL"
      }
    },
    {
      "cell_type": "markdown",
      "source": [
        "### While loop"
      ],
      "metadata": {
        "id": "CmXUhovoHHZ6"
      }
    },
    {
      "cell_type": "code",
      "source": [
        "# infinite loop\n",
        "\n",
        "# while True:\n",
        "#   print('hallo')\n",
        "#   print('statement 2')"
      ],
      "metadata": {
        "id": "T4bARCIpHECs"
      },
      "execution_count": null,
      "outputs": []
    },
    {
      "cell_type": "code",
      "source": [
        "angka = 4"
      ],
      "metadata": {
        "id": "6oicx8rtI-GP"
      },
      "execution_count": null,
      "outputs": []
    },
    {
      "cell_type": "code",
      "source": [
        "angka = angka + 1\n",
        "angka"
      ],
      "metadata": {
        "colab": {
          "base_uri": "https://localhost:8080/"
        },
        "id": "XwJryu-XJCcR",
        "outputId": "99eddd61-8387-4280-fad6-d2860d221a79"
      },
      "execution_count": null,
      "outputs": [
        {
          "output_type": "execute_result",
          "data": {
            "text/plain": [
              "7"
            ]
          },
          "metadata": {},
          "execution_count": 68
        }
      ]
    },
    {
      "cell_type": "code",
      "source": [
        "i = 0\n",
        "\n",
        "while i < 5:\n",
        "  print(i)\n",
        "  i = i + 1"
      ],
      "metadata": {
        "colab": {
          "base_uri": "https://localhost:8080/"
        },
        "id": "nruNEZiVIoxU",
        "outputId": "aa668a8b-05a0-4a81-e200-50aa4aa93d79"
      },
      "execution_count": null,
      "outputs": [
        {
          "output_type": "stream",
          "name": "stdout",
          "text": [
            "0\n",
            "1\n",
            "2\n",
            "3\n",
            "4\n"
          ]
        }
      ]
    },
    {
      "cell_type": "code",
      "source": [
        "i = 1\n",
        "\n",
        "while i <= 10:\n",
        "  print(f'5 x {i} = {5*i}')\n",
        "  i = i + 1"
      ],
      "metadata": {
        "colab": {
          "base_uri": "https://localhost:8080/"
        },
        "id": "tiz4bHKUKjW1",
        "outputId": "5daabe09-8f47-4538-c209-50c7a0005a68"
      },
      "execution_count": null,
      "outputs": [
        {
          "output_type": "stream",
          "name": "stdout",
          "text": [
            "5 x 1 = 5\n",
            "5 x 2 = 10\n",
            "5 x 3 = 15\n",
            "5 x 4 = 20\n",
            "5 x 5 = 25\n",
            "5 x 6 = 30\n",
            "5 x 7 = 35\n",
            "5 x 8 = 40\n",
            "5 x 9 = 45\n",
            "5 x 10 = 50\n"
          ]
        }
      ]
    },
    {
      "cell_type": "code",
      "source": [
        "i = 1\n",
        "j = 1\n",
        "\n",
        "while i <= 10:\n",
        "  while j <= 10:\n",
        "    print(f'{i} x {j} = {i*j}')\n",
        "    j = j + 1\n",
        "  print('='*10)\n",
        "  i = i + 1\n",
        "  j = 1"
      ],
      "metadata": {
        "id": "4DUTd3-gLnEm"
      },
      "execution_count": null,
      "outputs": []
    },
    {
      "cell_type": "code",
      "source": [
        "i = 10\n",
        "\n",
        "while i < 5:\n",
        "  print('i di bawah 5')\n",
        "else:\n",
        "  print('i di atas 5')"
      ],
      "metadata": {
        "colab": {
          "base_uri": "https://localhost:8080/"
        },
        "id": "dHjkU_0kNsbQ",
        "outputId": "23b46ef0-a6b2-4c8e-ff57-f6f8ab98072a"
      },
      "execution_count": null,
      "outputs": [
        {
          "output_type": "stream",
          "name": "stdout",
          "text": [
            "i di atas 5\n"
          ]
        }
      ]
    },
    {
      "cell_type": "markdown",
      "source": [
        "### For loop"
      ],
      "metadata": {
        "id": "JdOiBcjDNimC"
      }
    },
    {
      "cell_type": "code",
      "source": [
        "a = [1, 2, 3]\n",
        "b = [4, 5, 6]\n",
        "\n",
        "a + b"
      ],
      "metadata": {
        "colab": {
          "base_uri": "https://localhost:8080/"
        },
        "id": "CFQTxqQgPlRh",
        "outputId": "636f15ee-0095-446a-b242-f1f142f8417f"
      },
      "execution_count": null,
      "outputs": [
        {
          "output_type": "execute_result",
          "data": {
            "text/plain": [
              "[1, 2, 3, 4, 5, 6]"
            ]
          },
          "metadata": {},
          "execution_count": 82
        }
      ]
    },
    {
      "cell_type": "code",
      "source": [
        "cities = cities + ['Labuan Bajo', 'Kalimantan Selatan']\n",
        "cities"
      ],
      "metadata": {
        "colab": {
          "base_uri": "https://localhost:8080/"
        },
        "id": "Qcj7e4_cNiM8",
        "outputId": "75f7cbe3-861d-42e4-edbe-9704ee214590"
      },
      "execution_count": null,
      "outputs": [
        {
          "output_type": "execute_result",
          "data": {
            "text/plain": [
              "['Tokyo',\n",
              " 'Surabaya',\n",
              " 'Yogyakarta',\n",
              " 'Medan',\n",
              " 'Paris',\n",
              " 'Labuan Bajo',\n",
              " 'Kalimantan Selatan']"
            ]
          },
          "metadata": {},
          "execution_count": 80
        }
      ]
    },
    {
      "cell_type": "code",
      "source": [
        "enumerate(cities)"
      ],
      "metadata": {
        "colab": {
          "base_uri": "https://localhost:8080/"
        },
        "id": "DAIcz1blYYi5",
        "outputId": "f1299ff9-e48c-47e8-f475-d8a099a0c192"
      },
      "execution_count": null,
      "outputs": [
        {
          "output_type": "execute_result",
          "data": {
            "text/plain": [
              "<enumerate at 0x7f0b36f710a0>"
            ]
          },
          "metadata": {},
          "execution_count": 130
        }
      ]
    },
    {
      "cell_type": "code",
      "source": [
        "for idx, kota in enumerate(cities):\n",
        "  print(idx)\n",
        "  print(kota)\n",
        "  print('='*10)"
      ],
      "metadata": {
        "colab": {
          "base_uri": "https://localhost:8080/"
        },
        "id": "uW3d_N8lO_KD",
        "outputId": "a542e446-b50f-4364-d373-afe6cfd2595e"
      },
      "execution_count": null,
      "outputs": [
        {
          "output_type": "stream",
          "name": "stdout",
          "text": [
            "0\n",
            "Tokyo\n",
            "==========\n",
            "1\n",
            "Surabaya\n",
            "==========\n",
            "2\n",
            "Yogyakarta\n",
            "==========\n",
            "3\n",
            "Medan\n",
            "==========\n",
            "4\n",
            "Paris\n",
            "==========\n",
            "5\n",
            "Labuan Bajo\n",
            "==========\n",
            "6\n",
            "Kalimantan Selatan\n",
            "==========\n"
          ]
        }
      ]
    },
    {
      "cell_type": "code",
      "source": [
        "idx = 0\n",
        "\n",
        "while idx < len(cities):\n",
        "  print(cities[idx])\n",
        "  idx += 1 # idx = idx + 1"
      ],
      "metadata": {
        "colab": {
          "base_uri": "https://localhost:8080/"
        },
        "id": "MO1Nf2DnRSpm",
        "outputId": "5b8f4113-fab8-4391-d21c-27f4506aceac"
      },
      "execution_count": null,
      "outputs": [
        {
          "output_type": "stream",
          "name": "stdout",
          "text": [
            "Tokyo\n",
            "Surabaya\n",
            "Yogyakarta\n",
            "Medan\n",
            "Paris\n",
            "Labuan Bajo\n",
            "Kalimantan Selatan\n"
          ]
        }
      ]
    },
    {
      "cell_type": "code",
      "source": [
        "list(range(1,10))"
      ],
      "metadata": {
        "colab": {
          "base_uri": "https://localhost:8080/"
        },
        "id": "1An8INkoQHzo",
        "outputId": "2f1608e7-8947-4fd3-e054-945e9252614a"
      },
      "execution_count": null,
      "outputs": [
        {
          "output_type": "execute_result",
          "data": {
            "text/plain": [
              "[1, 2, 3, 4, 5, 6, 7, 8, 9]"
            ]
          },
          "metadata": {},
          "execution_count": 85
        }
      ]
    },
    {
      "cell_type": "code",
      "source": [
        "for i in range(1, 11):\n",
        "  print(f'5 x {i} = {5*i}')"
      ],
      "metadata": {
        "colab": {
          "base_uri": "https://localhost:8080/"
        },
        "id": "dPSJfSYKPb6m",
        "outputId": "3091111a-6f66-4c25-95da-3a2498dcb636"
      },
      "execution_count": null,
      "outputs": [
        {
          "output_type": "stream",
          "name": "stdout",
          "text": [
            "5 x 1 = 5\n",
            "5 x 2 = 10\n",
            "5 x 3 = 15\n",
            "5 x 4 = 20\n",
            "5 x 5 = 25\n",
            "5 x 6 = 30\n",
            "5 x 7 = 35\n",
            "5 x 8 = 40\n",
            "5 x 9 = 45\n",
            "5 x 10 = 50\n"
          ]
        }
      ]
    },
    {
      "cell_type": "code",
      "source": [
        "i = 1\n",
        "j = 1\n",
        "\n",
        "while i <= 10:\n",
        "  while j <= 10:\n",
        "    print(f'{i} x {j} = {i*j}')\n",
        "    j = j + 1\n",
        "  print('='*10)\n",
        "  i = i + 1\n",
        "  j = 1"
      ],
      "metadata": {
        "id": "2OfYh49ZQkD3"
      },
      "execution_count": null,
      "outputs": []
    },
    {
      "cell_type": "code",
      "source": [
        "for i in range(1, 11):\n",
        "  for j in range(1, 11):\n",
        "    print(f'{i} x {j} = {i*j}')\n",
        "  print('='*10)"
      ],
      "metadata": {
        "id": "t-fuBlgQQkyq"
      },
      "execution_count": null,
      "outputs": []
    },
    {
      "cell_type": "markdown",
      "source": [
        "## Flow Control Statement"
      ],
      "metadata": {
        "id": "KIhQyqNYSdqR"
      }
    },
    {
      "cell_type": "code",
      "source": [
        "# continue\n",
        "for i in range(0, 11):\n",
        "  if i in [2, 6, 7, 9]:\n",
        "    continue\n",
        "  print(i)"
      ],
      "metadata": {
        "colab": {
          "base_uri": "https://localhost:8080/"
        },
        "id": "x43_AJNBSgbI",
        "outputId": "757c7d5c-824e-4476-b693-5f6482d062fa"
      },
      "execution_count": null,
      "outputs": [
        {
          "output_type": "stream",
          "name": "stdout",
          "text": [
            "0\n",
            "1\n",
            "3\n",
            "4\n",
            "5\n",
            "8\n",
            "10\n"
          ]
        }
      ]
    },
    {
      "cell_type": "code",
      "source": [
        "# break\n",
        "for i in range(0, 11):\n",
        "  if i in [2, 6, 7, 9]:\n",
        "    break\n",
        "  print(i)"
      ],
      "metadata": {
        "colab": {
          "base_uri": "https://localhost:8080/"
        },
        "id": "rntEFWDvSqGA",
        "outputId": "8fb62ab6-d4b4-4999-ec00-9a419d2ba923"
      },
      "execution_count": null,
      "outputs": [
        {
          "output_type": "stream",
          "name": "stdout",
          "text": [
            "0\n",
            "1\n"
          ]
        }
      ]
    },
    {
      "cell_type": "code",
      "source": [
        "i = 1\n",
        "j = 1\n",
        "\n",
        "while i < 10:\n",
        "  i = i + 1\n",
        "  j = 1\n",
        "  if i in [4, 5, 6]:\n",
        "    continue\n",
        "  while j <= 10:\n",
        "    print(f'{i} x {j} = {i*j}')\n",
        "    j = j + 1\n",
        "  print('='*10)"
      ],
      "metadata": {
        "id": "Pv-WspEHTr9f"
      },
      "execution_count": null,
      "outputs": []
    },
    {
      "cell_type": "code",
      "source": [
        "angka = [1, 2, 3, 4, 5, 6, 7, 8, 9, 10]\n",
        "\n",
        "above_5 = []\n",
        "\n",
        "for value in angka:\n",
        "  if value > 5:\n",
        "    above_5.append(value)\n",
        "\n",
        "above_5"
      ],
      "metadata": {
        "colab": {
          "base_uri": "https://localhost:8080/"
        },
        "id": "0g9mm8SZVC3E",
        "outputId": "dfbe94df-a507-41f5-add4-c29bd8ee263a"
      },
      "execution_count": null,
      "outputs": [
        {
          "output_type": "execute_result",
          "data": {
            "text/plain": [
              "[6, 7, 8, 9, 10]"
            ]
          },
          "metadata": {},
          "execution_count": 114
        }
      ]
    },
    {
      "cell_type": "code",
      "source": [
        "x = 101\n",
        "\n",
        "if 0 <= x <= 100:\n",
        "  if 80 <= x:\n",
        "    print('grade A')\n",
        "  elif 70 <= x:\n",
        "    print('grade B')\n",
        "  elif x >= 60:\n",
        "    print('grade C')\n",
        "  elif x >= 40:\n",
        "    print('grade D')\n",
        "  else:\n",
        "    print('grade E')\n",
        "else:\n",
        "  print('Angka tidak valid')"
      ],
      "metadata": {
        "colab": {
          "base_uri": "https://localhost:8080/"
        },
        "id": "llD-J-J6VuSD",
        "outputId": "899bca12-4a66-46f4-f731-cb647415b9dd"
      },
      "execution_count": null,
      "outputs": [
        {
          "output_type": "stream",
          "name": "stdout",
          "text": [
            "Angka tidak valid\n"
          ]
        }
      ]
    },
    {
      "cell_type": "code",
      "source": [
        "d = {'rafif': 70, 'dwi': 80, 'ezar': 85}\n",
        "d"
      ],
      "metadata": {
        "colab": {
          "base_uri": "https://localhost:8080/"
        },
        "id": "_KDQ8e0vVzjp",
        "outputId": "c7fc5ebd-56d6-4f79-9db3-94c3458b4c73"
      },
      "execution_count": null,
      "outputs": [
        {
          "output_type": "execute_result",
          "data": {
            "text/plain": [
              "{'dwi': 80, 'ezar': 85, 'rafif': 70}"
            ]
          },
          "metadata": {},
          "execution_count": 116
        }
      ]
    },
    {
      "cell_type": "code",
      "source": [
        "d.keys()"
      ],
      "metadata": {
        "colab": {
          "base_uri": "https://localhost:8080/"
        },
        "id": "6I93DM_GWLbV",
        "outputId": "436882cd-d0c2-48b3-955d-1019ba77c1a2"
      },
      "execution_count": null,
      "outputs": [
        {
          "output_type": "execute_result",
          "data": {
            "text/plain": [
              "dict_keys(['rafif', 'dwi', 'ezar'])"
            ]
          },
          "metadata": {},
          "execution_count": 117
        }
      ]
    },
    {
      "cell_type": "code",
      "source": [
        "d.values()"
      ],
      "metadata": {
        "colab": {
          "base_uri": "https://localhost:8080/"
        },
        "id": "hh7EKrRiWOYi",
        "outputId": "54bdf127-2aee-416e-b00d-85094eba856f"
      },
      "execution_count": null,
      "outputs": [
        {
          "output_type": "execute_result",
          "data": {
            "text/plain": [
              "dict_values([70, 80, 85])"
            ]
          },
          "metadata": {},
          "execution_count": 118
        }
      ]
    },
    {
      "cell_type": "code",
      "source": [
        "d.items()"
      ],
      "metadata": {
        "colab": {
          "base_uri": "https://localhost:8080/"
        },
        "id": "fRMBzR5DWRqa",
        "outputId": "6dfc5689-23ed-46bc-dd5c-e2cf257f1396"
      },
      "execution_count": null,
      "outputs": [
        {
          "output_type": "execute_result",
          "data": {
            "text/plain": [
              "dict_items([('rafif', 70), ('dwi', 80), ('ezar', 85)])"
            ]
          },
          "metadata": {},
          "execution_count": 119
        }
      ]
    },
    {
      "cell_type": "code",
      "source": [
        "for nama, nilai in d.items():\n",
        "  print(nama, 'dengan nilai', nilai)"
      ],
      "metadata": {
        "colab": {
          "base_uri": "https://localhost:8080/"
        },
        "id": "FesrJJ6_WbRt",
        "outputId": "01e101ee-8a79-4ba3-df7d-56c8b83cf02e"
      },
      "execution_count": null,
      "outputs": [
        {
          "output_type": "stream",
          "name": "stdout",
          "text": [
            "rafif dengan nilai 70\n",
            "dwi dengan nilai 80\n",
            "ezar dengan nilai 85\n"
          ]
        }
      ]
    },
    {
      "cell_type": "code",
      "source": [
        "grade = {}\n",
        "\n",
        "for nama, x in d.items():\n",
        "  if 0 <= x <= 100:\n",
        "    if 80 <= x:\n",
        "      grade[nama] = 'A'\n",
        "    elif 70 <= x:\n",
        "      grade[nama] = 'B'\n",
        "    elif x >= 60:\n",
        "      grade[nama] = 'C'\n",
        "    elif x >= 40:\n",
        "      grade[nama] = 'D'\n",
        "    else:\n",
        "      grade[nama] = 'E'\n",
        "  else:\n",
        "    print('Angka tidak valid')\n",
        "\n",
        "grade"
      ],
      "metadata": {
        "colab": {
          "base_uri": "https://localhost:8080/"
        },
        "id": "l4keqnS-WsW2",
        "outputId": "9c406900-f5fa-4728-a224-388b768fdb24"
      },
      "execution_count": null,
      "outputs": [
        {
          "output_type": "execute_result",
          "data": {
            "text/plain": [
              "{'dwi': 'A', 'ezar': 'A', 'rafif': 'B'}"
            ]
          },
          "metadata": {},
          "execution_count": 121
        }
      ]
    },
    {
      "cell_type": "code",
      "source": [
        "d"
      ],
      "metadata": {
        "colab": {
          "base_uri": "https://localhost:8080/"
        },
        "id": "2O-6R1CuXJt-",
        "outputId": "9021cd38-c632-4d92-eb9e-709d9131c560"
      },
      "execution_count": null,
      "outputs": [
        {
          "output_type": "execute_result",
          "data": {
            "text/plain": [
              "{'dwi': 80, 'ezar': 85, 'rafif': 70}"
            ]
          },
          "metadata": {},
          "execution_count": 122
        }
      ]
    },
    {
      "cell_type": "code",
      "source": [
        "print(d)"
      ],
      "metadata": {
        "colab": {
          "base_uri": "https://localhost:8080/"
        },
        "id": "qVLlIBWbX7Sv",
        "outputId": "186f86a8-d1b4-40ce-b1b9-c558aa5a7d39"
      },
      "execution_count": null,
      "outputs": [
        {
          "output_type": "stream",
          "name": "stdout",
          "text": [
            "{'rafif': 70, 'dwi': 80, 'ezar': 85}\n"
          ]
        }
      ]
    }
  ]
}