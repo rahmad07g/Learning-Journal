{
 "cells": [
  {
   "cell_type": "code",
   "execution_count": 1,
   "metadata": {},
   "outputs": [
    {
     "name": "stdout",
     "output_type": "stream",
     "text": [
      "konversi suhu dari kelvin ke celcius, dan celcius ke kelvin\n",
      "hasil dari Konversi suhu 100 C adalah 373 K dan 212.0 F\n",
      "hasil dari Konversi Suhu 200 K adalah -73 C \n",
      "==================================================\n",
      "konversi suhu dari fahrenheit ke celcius, dan reamur\n",
      "hasil dari Konversi suhu 300 F adalah 148.88888888888889 C dan 119.1111111111111 R\n"
     ]
    }
   ],
   "source": [
    "# Buatlah sebuah function yang dapat mengkonversi suhu dari kelvin ke celcius, dan celcius ke kelvin.\n",
    "# Buatlah sebuah function yang dapat mengkonversi suhu ke fahrenheit. \n",
    "# Tambahkan parameter untuk memastikan bahwa argumen yang dimasukan adalah celcius atau kelvin. \n",
    "# Panggil function yang pertama jika diperlukan.\n",
    "# Buatlah sebuah function yang dapat mengkonversi suhu dari fahrenheit.\n",
    "# Berikan argumen untuk memastikan bahwa outputnya adalah celcius atau kelvin.\n",
    "\n",
    "# step 1 function yang dapat mengkonversi suhu dari kelvin ke celcius, dan celcius ke kelvin.\n",
    "# function 1 konversi suhu kelvin ke celcius\n",
    "print(\"konversi suhu dari kelvin ke celcius, dan celcius ke kelvin\")\n",
    "celcius = eval(input(\"Masukan nilai suhu dalam kelvin: \"))\n",
    "kelvin = eval(input(\"Masukan suhu dalam celcius: \"))\n",
    "def convert(celcius,kelvin):\n",
    "    conv_kelvin = celcius + 273\n",
    "    conv_celcius = kelvin - 273\n",
    "    conv_fahrenheit = 9 * celcius / 5 + 32\n",
    "    print(f'hasil dari Konversi suhu {celcius} C adalah {conv_kelvin} K dan {conv_fahrenheit} F')\n",
    "    print(f'hasil dari Konversi Suhu {kelvin} K adalah {conv_celcius} C ')\n",
    "convert(celcius,kelvin)\n",
    "print(\"=\"*50)\n",
    "\n",
    "# function 2 konversi suhu kelvin ke celcius\n",
    "print(\"konversi suhu dari fahrenheit ke celcius, dan reamur\")\n",
    "fahrenheit = eval(input(\"Masukan nilai suhu dalam fahrenheit: \"))\n",
    "def convert(fahrenheit):\n",
    "    F_to_C = 5/9*(fahrenheit-32)\n",
    "    F_to_R = 4/9*(fahrenheit-32)\n",
    "    print(f'hasil dari Konversi suhu {fahrenheit} F adalah {F_to_C} C dan {F_to_R} R')\n",
    "convert(fahrenheit)\n"
   ]
  },
  {
   "cell_type": "code",
   "execution_count": null,
   "metadata": {},
   "outputs": [],
   "source": []
  }
 ],
 "metadata": {
  "kernelspec": {
   "display_name": "Python 3.9.7 ('base')",
   "language": "python",
   "name": "python3"
  },
  "language_info": {
   "codemirror_mode": {
    "name": "ipython",
    "version": 3
   },
   "file_extension": ".py",
   "mimetype": "text/x-python",
   "name": "python",
   "nbconvert_exporter": "python",
   "pygments_lexer": "ipython3",
   "version": "3.9.7"
  },
  "orig_nbformat": 4,
  "vscode": {
   "interpreter": {
    "hash": "ad2bdc8ecc057115af97d19610ffacc2b4e99fae6737bb82f5d7fb13d2f2c186"
   }
  }
 },
 "nbformat": 4,
 "nbformat_minor": 2
}
