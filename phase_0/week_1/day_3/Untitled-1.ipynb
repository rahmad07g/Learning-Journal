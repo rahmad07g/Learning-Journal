{
 "cells": [
  {
   "cell_type": "code",
   "execution_count": 2,
   "metadata": {},
   "outputs": [],
   "source": [
    "def function_name( parameters ):   \n",
    "    \"\"\" \n",
    "    docstring = keterangan\n",
    "    \"\"\"   \n",
    "    # body\n",
    "    # boleh dipakai dua duanya tapi return harus yg paling bawah\n",
    "    statement(s)\n",
    "    print()\n",
    "    return"
   ]
  },
  {
   "cell_type": "code",
   "execution_count": 1,
   "metadata": {},
   "outputs": [],
   "source": [
    "def cetak (nama):\n",
    "    print(f\"saya adalah {nama}\")\n"
   ]
  },
  {
   "cell_type": "code",
   "execution_count": 2,
   "metadata": {},
   "outputs": [
    {
     "name": "stdout",
     "output_type": "stream",
     "text": [
      "saya adalah rahmad\n"
     ]
    }
   ],
   "source": [
    "cetak (\"rahmad\")"
   ]
  },
  {
   "cell_type": "code",
   "execution_count": 3,
   "metadata": {},
   "outputs": [],
   "source": [
    "def cetak (nama,pekerjaan):\n",
    "    print(f\"saya adalah {nama} sebagai {pekerjaan}\")\n"
   ]
  },
  {
   "cell_type": "code",
   "execution_count": 4,
   "metadata": {},
   "outputs": [
    {
     "name": "stdout",
     "output_type": "stream",
     "text": [
      "saya adalah rahmad pengajar\n"
     ]
    }
   ],
   "source": [
    "cetak(\"rahmad\",\"pengajar\")"
   ]
  },
  {
   "cell_type": "code",
   "execution_count": 5,
   "metadata": {},
   "outputs": [],
   "source": [
    "mylist =[10,20,30]"
   ]
  },
  {
   "cell_type": "code",
   "execution_count": 6,
   "metadata": {},
   "outputs": [],
   "source": [
    "def rubahlist (number) :\n",
    "    mylist = number + [1,2,3]\n",
    "    return mylist"
   ]
  },
  {
   "cell_type": "code",
   "execution_count": 7,
   "metadata": {},
   "outputs": [
    {
     "data": {
      "text/plain": [
       "[30, 20, 10, 1, 2, 3]"
      ]
     },
     "execution_count": 7,
     "metadata": {},
     "output_type": "execute_result"
    }
   ],
   "source": [
    "rubahlist([30,20,10])"
   ]
  },
  {
   "cell_type": "code",
   "execution_count": 8,
   "metadata": {},
   "outputs": [
    {
     "data": {
      "text/plain": [
       "[10, 20, 30]"
      ]
     },
     "execution_count": 8,
     "metadata": {},
     "output_type": "execute_result"
    }
   ],
   "source": [
    "mylist"
   ]
  },
  {
   "cell_type": "code",
   "execution_count": null,
   "metadata": {},
   "outputs": [],
   "source": [
    "def changeme( mylist ):   \n",
    "    \"This changes a passed list into this function\"  \n",
    "    mylist.append([1,2,3,4])   \n",
    "    print(\"Values inside the function: \", mylist)  \n",
    "    return"
   ]
  },
  {
   "cell_type": "code",
   "execution_count": 12,
   "metadata": {},
   "outputs": [],
   "source": [
    "def deteksi_kata(kata):\n",
    "    return \"hacktiv8\" in kata.lower()"
   ]
  },
  {
   "cell_type": "code",
   "execution_count": 14,
   "metadata": {},
   "outputs": [
    {
     "data": {
      "text/plain": [
       "False"
      ]
     },
     "execution_count": 14,
     "metadata": {},
     "output_type": "execute_result"
    }
   ],
   "source": [
    "deteksi_kata(\"HACKTIV8\")"
   ]
  },
  {
   "cell_type": "code",
   "execution_count": 16,
   "metadata": {},
   "outputs": [],
   "source": [
    "def tambah (x,y,z,a):\n",
    "    hasil = x+y+z+a\n",
    "    return hasil"
   ]
  },
  {
   "cell_type": "code",
   "execution_count": 17,
   "metadata": {},
   "outputs": [],
   "source": [
    "def tambah (*args):\n",
    "    return sum(args)"
   ]
  },
  {
   "cell_type": "code",
   "execution_count": 18,
   "metadata": {},
   "outputs": [
    {
     "data": {
      "text/plain": [
       "144"
      ]
     },
     "execution_count": 18,
     "metadata": {},
     "output_type": "execute_result"
    }
   ],
   "source": [
    "tambah (1,2,2,1,111,2,25)"
   ]
  },
  {
   "cell_type": "code",
   "execution_count": 19,
   "metadata": {},
   "outputs": [],
   "source": [
    "def pendaftaran (data,**kwargs):\n",
    "    print(data)\n",
    "    for key,value in kwargs.items():\n",
    "        print(f\"pendaftaran an {key}\")\n",
    "        print(f\"tujuan keberangkatan {value}\")\n"
   ]
  },
  {
   "cell_type": "code",
   "execution_count": 24,
   "metadata": {},
   "outputs": [
    {
     "name": "stdout",
     "output_type": "stream",
     "text": [
      "3\n",
      "pendaftaran an bambang\n",
      "tujuan keberangkatan makasar\n",
      "pendaftaran an anto\n",
      "tujuan keberangkatan jakarta\n",
      "pendaftaran an bima\n",
      "tujuan keberangkatan surabaya\n"
     ]
    }
   ],
   "source": [
    "pendaftaran (3,bambang =\"makasar\", anto =\"jakarta\", bima=\"surabaya\")"
   ]
  },
  {
   "cell_type": "code",
   "execution_count": 35,
   "metadata": {},
   "outputs": [
    {
     "ename": "SyntaxError",
     "evalue": "invalid syntax (Temp/ipykernel_11760/2476471305.py, line 7)",
     "output_type": "error",
     "traceback": [
      "\u001b[1;36m  File \u001b[1;32m\"C:\\Users\\rahma\\AppData\\Local\\Temp/ipykernel_11760/2476471305.py\"\u001b[1;36m, line \u001b[1;32m7\u001b[0m\n\u001b[1;33m    print (f\"{nama}\" score BMI anda adalah {bmi} dan underweigh)\u001b[0m\n\u001b[1;37m                     ^\u001b[0m\n\u001b[1;31mSyntaxError\u001b[0m\u001b[1;31m:\u001b[0m invalid syntax\n"
     ]
    }
   ],
   "source": [
    "berat = int(input(\"masukan berat anda\"))\n",
    "tinggi = int(input(\"masukan tinggi anda\"))\n",
    "\n",
    "def bmi_calculator (nama,berat,tinggi):\n",
    "    bmi = berat/tinggi**2\n",
    "    if bmi <= 18.5:\n",
    "        print (f\"{nama}\" score BMI anda adalah {bmi} dan underweigh)\n",
    "    elif bmi >= 18.5 and bmi >= 24.9:\n",
    "        print (f\"{nama}\" score BMI anda adalah {bmi} dan normal)\n",
    "    elif bmi >= 25 and bmi >= 29.9:\n",
    "        print (f\"{nama}\" score BMI anda adalah {bmi} dan overweight)\n",
    "    else:\n",
    "        print (f\"{nama}\" score BMI anda adalah {bmi} dan very overweight)\n",
    "print(bmi_calculator(nama,berat,tinggi))\n",
    "\n"
   ]
  },
  {
   "cell_type": "code",
   "execution_count": null,
   "metadata": {},
   "outputs": [],
   "source": [
    "berat = eval(input(\"Berat badan(kg): \"))\n",
    "tinggi = eval(input(\"Tinggi badan(cm): \"))\n",
    "tinggi = tinggi/100\n",
    "\n",
    "def kalkulator_BMI(berat, tinggi):\n",
    "    BMI = berat / tinggi**2\n",
    "    if BMI < 18.5:\n",
    "        return f\"BMI: {BMI}, Underweight\"\n",
    "    elif 18.5 <= BMI <= 24.9:\n",
    "        return f\"BMI: {BMI}, Normal\"\n",
    "    elif 25.0 <= BMI <= 29.9:\n",
    "        return f\"BMI: {BMI}, Overweight\"\n",
    "    elif BMI >= 30:\n",
    "        return f\"BMI: {BMI}, Obese\"\n",
    "\n",
    "print(kalkulator_BMI(berat, tinggi))\n"
   ]
  },
  {
   "cell_type": "code",
   "execution_count": null,
   "metadata": {},
   "outputs": [],
   "source": []
  }
 ],
 "metadata": {
  "kernelspec": {
   "display_name": "Python 3.9.7 ('base')",
   "language": "python",
   "name": "python3"
  },
  "language_info": {
   "codemirror_mode": {
    "name": "ipython",
    "version": 3
   },
   "file_extension": ".py",
   "mimetype": "text/x-python",
   "name": "python",
   "nbconvert_exporter": "python",
   "pygments_lexer": "ipython3",
   "version": "3.9.7"
  },
  "orig_nbformat": 4,
  "vscode": {
   "interpreter": {
    "hash": "ad2bdc8ecc057115af97d19610ffacc2b4e99fae6737bb82f5d7fb13d2f2c186"
   }
  }
 },
 "nbformat": 4,
 "nbformat_minor": 2
}
