{
  "cells": [
    {
      "cell_type": "code",
      "execution_count": 1,
      "metadata": {
        "id": "lIYdn1woOS1n"
      },
      "outputs": [],
      "source": [
        "def nama_function (parameter):\n",
        "  '''\n",
        "  docstrings = keterangan\n",
        "\n",
        "  '''\n",
        "  #body \n",
        "  print()\n",
        "  return\n"
      ]
    },
    {
      "cell_type": "code",
      "execution_count": 2,
      "metadata": {
        "id": "8m8IC3I7PKNK"
      },
      "outputs": [],
      "source": [
        "def cetak (nama):\n",
        "  print(f'saya adalah {nama}')"
      ]
    },
    {
      "cell_type": "code",
      "execution_count": 3,
      "metadata": {
        "colab": {
          "base_uri": "https://localhost:8080/"
        },
        "id": "2soEBCMjQVx0",
        "outputId": "4027b99b-3c10-4b90-f9e1-78124cbd6122"
      },
      "outputs": [
        {
          "name": "stdout",
          "output_type": "stream",
          "text": [
            "saya adalah rachman\n"
          ]
        }
      ],
      "source": [
        "cetak('rachman')"
      ]
    },
    {
      "cell_type": "code",
      "execution_count": null,
      "metadata": {
        "id": "x5f27qh4Qaqg"
      },
      "outputs": [],
      "source": [
        "def cetak (nama,pekerjaan):\n",
        "  print(f'saya adalah {nama} sebagai {pekerjaan}')"
      ]
    },
    {
      "cell_type": "code",
      "execution_count": null,
      "metadata": {
        "colab": {
          "base_uri": "https://localhost:8080/"
        },
        "id": "mTePDPUJQouj",
        "outputId": "f734ec20-d933-405b-ef74-b7a01d421258"
      },
      "outputs": [
        {
          "name": "stdout",
          "output_type": "stream",
          "text": [
            "saya adalah rachman sebagai pengajar\n"
          ]
        }
      ],
      "source": [
        "cetak(pekerjaan='pengajar',nama='rachman')"
      ]
    },
    {
      "cell_type": "code",
      "execution_count": null,
      "metadata": {
        "colab": {
          "base_uri": "https://localhost:8080/"
        },
        "id": "3Lx-8f5zQwPe",
        "outputId": "1466c646-8517-471e-a26a-a00fafbbc82c"
      },
      "outputs": [
        {
          "name": "stdout",
          "output_type": "stream",
          "text": [
            "saya adalah pengajar sebagai rachman\n"
          ]
        }
      ],
      "source": [
        "a = 'rachman'\n",
        "b = 'pengajar'\n",
        "\n",
        "cetak(pekerjaan = a,nama = b)"
      ]
    },
    {
      "cell_type": "code",
      "execution_count": null,
      "metadata": {
        "id": "PJxG9jtTRkbD"
      },
      "outputs": [],
      "source": [
        "def tambah (x,y):\n",
        "  hasil = x+y\n",
        "  return hasil"
      ]
    },
    {
      "cell_type": "code",
      "execution_count": null,
      "metadata": {
        "colab": {
          "base_uri": "https://localhost:8080/"
        },
        "id": "PLU-HF0DR1Yl",
        "outputId": "4ecfd4d8-a5e0-4d2d-f0ec-a85f4f8d0769"
      },
      "outputs": [
        {
          "name": "stdout",
          "output_type": "stream",
          "text": [
            "10\n"
          ]
        }
      ],
      "source": [
        "tambah(5,5)"
      ]
    },
    {
      "cell_type": "code",
      "execution_count": null,
      "metadata": {
        "id": "Onh8keNQR4ym"
      },
      "outputs": [],
      "source": [
        "x = tambah(5,4)"
      ]
    },
    {
      "cell_type": "code",
      "execution_count": null,
      "metadata": {
        "id": "B8Mi31FCSPVk"
      },
      "outputs": [],
      "source": [
        "mylist = [10,20,30]"
      ]
    },
    {
      "cell_type": "code",
      "execution_count": null,
      "metadata": {
        "id": "aZSk3JPESVEF"
      },
      "outputs": [],
      "source": [
        "def rubahlist (number):\n",
        "  mylist = number + [1,2,3]\n",
        "  return mylist"
      ]
    },
    {
      "cell_type": "code",
      "execution_count": null,
      "metadata": {
        "colab": {
          "base_uri": "https://localhost:8080/"
        },
        "id": "i5qXJIGjTHqK",
        "outputId": "ae262329-4d0b-439b-a99e-cdfc12739281"
      },
      "outputs": [
        {
          "data": {
            "text/plain": [
              "[30, 20, 10, 1, 2, 3]"
            ]
          },
          "execution_count": 60,
          "metadata": {},
          "output_type": "execute_result"
        }
      ],
      "source": [
        "rubahlist([30,20,10])"
      ]
    },
    {
      "cell_type": "code",
      "execution_count": null,
      "metadata": {
        "id": "pZ6LOFX_TMA1"
      },
      "outputs": [],
      "source": [
        "mylist = rubahlist([30,20,10])"
      ]
    },
    {
      "cell_type": "code",
      "execution_count": null,
      "metadata": {
        "colab": {
          "base_uri": "https://localhost:8080/"
        },
        "id": "YYOHRHnpTsSO",
        "outputId": "d3b6f5d6-3226-488b-b3d1-df7dc2f7e89a"
      },
      "outputs": [
        {
          "data": {
            "text/plain": [
              "[30, 20, 10, 1, 2, 3]"
            ]
          },
          "execution_count": 62,
          "metadata": {},
          "output_type": "execute_result"
        }
      ],
      "source": [
        "mylist"
      ]
    },
    {
      "cell_type": "code",
      "execution_count": null,
      "metadata": {
        "id": "Q7TIdzvFUXEy"
      },
      "outputs": [],
      "source": [
        "x = 5 + tambah(10,5)"
      ]
    },
    {
      "cell_type": "code",
      "execution_count": null,
      "metadata": {
        "id": "IE3n3siaVAE3"
      },
      "outputs": [],
      "source": [
        "def berhitung (x,y):\n",
        "  tambah = x+y\n",
        "  kurang = x-y\n",
        "  bagi = x/y\n",
        "  kali = x*y\n",
        "  return tambah,kurang,bagi,kali"
      ]
    },
    {
      "cell_type": "code",
      "execution_count": null,
      "metadata": {
        "colab": {
          "base_uri": "https://localhost:8080/"
        },
        "id": "E0EcwiWVVArj",
        "outputId": "fb25c0eb-c241-42e8-85b8-a13d6fe71e84"
      },
      "outputs": [
        {
          "name": "stdout",
          "output_type": "stream",
          "text": [
            "15\n",
            "5\n",
            "2.0\n",
            "50\n"
          ]
        }
      ],
      "source": [
        "a,b,c,d = berhitung(10,5)\n",
        "print(a)\n",
        "print(b)\n",
        "print(c)\n",
        "print(d)"
      ]
    },
    {
      "cell_type": "code",
      "execution_count": null,
      "metadata": {
        "colab": {
          "base_uri": "https://localhost:8080/"
        },
        "id": "VT_ZBHlBVUuZ",
        "outputId": "b6281236-00b5-4dd5-b997-602078749b46"
      },
      "outputs": [
        {
          "data": {
            "text/plain": [
              "int"
            ]
          },
          "execution_count": 68,
          "metadata": {},
          "output_type": "execute_result"
        }
      ],
      "source": [
        "type(a)"
      ]
    },
    {
      "cell_type": "code",
      "execution_count": null,
      "metadata": {
        "id": "49Q8ROrVVvDy"
      },
      "outputs": [],
      "source": [
        "a = 50"
      ]
    },
    {
      "cell_type": "code",
      "execution_count": null,
      "metadata": {
        "id": "TST1N3l8V8vy"
      },
      "outputs": [],
      "source": [
        "x = int(input('Masukkan x: '))\n",
        "print('x adalah bilangan', 'genap' if (x % 2 == 0) else 'ganjil')\n"
      ]
    },
    {
      "cell_type": "code",
      "execution_count": null,
      "metadata": {
        "colab": {
          "base_uri": "https://localhost:8080/"
        },
        "id": "ByWiyXNiWlTx",
        "outputId": "dbfb24c6-8883-4788-9061-192f195e91d4"
      },
      "outputs": [
        {
          "name": "stdout",
          "output_type": "stream",
          "text": [
            "Masukkan Angka : 50\n",
            "50 genap\n",
            "None\n"
          ]
        }
      ],
      "source": [
        "def modulus(number):\n",
        "    if number % 2 == 0:\n",
        "        print(f'{number} genap')\n",
        "    else:\n",
        "        print(f'{number} ganjil')\n",
        "\n",
        "a = int(input('Masukkan Angka : '))\n",
        "print(modulus(a))\n"
      ]
    },
    {
      "cell_type": "code",
      "execution_count": 102,
      "metadata": {
        "colab": {
          "base_uri": "https://localhost:8080/"
        },
        "id": "pLYVGlEIWmpA",
        "outputId": "a616a9cf-9b25-40b6-d9ae-a51db3611fbf"
      },
      "outputs": [],
      "source": [
        "a = input('masukan kata-kata hacktiv8 ')"
      ]
    },
    {
      "cell_type": "code",
      "execution_count": 101,
      "metadata": {
        "id": "51Z6PUIXW6cr"
      },
      "outputs": [],
      "source": [
        "def deteksi_kata(a):\n",
        "    if a in \"hacktiv8\":\n",
        "        p = print(True)\n",
        "    else:\n",
        "        p = print(False)\n",
        "    return p\n"
      ]
    },
    {
      "cell_type": "code",
      "execution_count": 98,
      "metadata": {
        "colab": {
          "base_uri": "https://localhost:8080/"
        },
        "id": "6BcVO82-X_RW",
        "outputId": "7952ac95-c951-42ee-c106-352956e0a89b"
      },
      "outputs": [
        {
          "ename": "NameError",
          "evalue": "name 'a' is not defined",
          "output_type": "error",
          "traceback": [
            "\u001b[1;31m---------------------------------------------------------------------------\u001b[0m",
            "\u001b[1;31mNameError\u001b[0m                                 Traceback (most recent call last)",
            "\u001b[1;32m~\\AppData\\Local\\Temp/ipykernel_13748/1274189916.py\u001b[0m in \u001b[0;36m<module>\u001b[1;34m\u001b[0m\n\u001b[1;32m----> 1\u001b[1;33m \u001b[0mdeteksi_kata\u001b[0m\u001b[1;33m(\u001b[0m\u001b[0ma\u001b[0m\u001b[1;33m)\u001b[0m\u001b[1;33m\u001b[0m\u001b[1;33m\u001b[0m\u001b[0m\n\u001b[0m",
            "\u001b[1;31mNameError\u001b[0m: name 'a' is not defined"
          ]
        }
      ],
      "source": [
        "deteksi_kata(a)"
      ]
    },
    {
      "cell_type": "code",
      "execution_count": 97,
      "metadata": {
        "id": "w-sl5T3oYFPN"
      },
      "outputs": [],
      "source": [
        "def deteksi_kata(kata):\n",
        "  return 'hacktiv8' in kata.lower()"
      ]
    },
    {
      "cell_type": "code",
      "execution_count": 100,
      "metadata": {
        "colab": {
          "base_uri": "https://localhost:8080/"
        },
        "id": "z2P2JzMqYca2",
        "outputId": "d8a9e45c-3ea0-44d7-ee75-84f7ffe2e7b0"
      },
      "outputs": [
        {
          "data": {
            "text/plain": [
              "False"
            ]
          },
          "execution_count": 100,
          "metadata": {},
          "output_type": "execute_result"
        }
      ],
      "source": [
        "deteksi_kata('sasa')"
      ]
    },
    {
      "cell_type": "code",
      "execution_count": 19,
      "metadata": {
        "id": "a1b-ggFRYgdv"
      },
      "outputs": [],
      "source": [
        "def tambah (x,y,z,a):\n",
        "  hasil = x+y+z+a\n",
        "  return hasil"
      ]
    },
    {
      "cell_type": "code",
      "execution_count": 17,
      "metadata": {
        "id": "-caZtegHYyVj"
      },
      "outputs": [],
      "source": [
        "def tambah(*args):\n",
        "  return sum(args)"
      ]
    },
    {
      "cell_type": "code",
      "execution_count": 18,
      "metadata": {
        "colab": {
          "base_uri": "https://localhost:8080/"
        },
        "id": "io9kJMUiZGND",
        "outputId": "db86e677-fd64-44f2-db40-c17faf7c17d2"
      },
      "outputs": [
        {
          "data": {
            "text/plain": [
              "30"
            ]
          },
          "execution_count": 18,
          "metadata": {},
          "output_type": "execute_result"
        }
      ],
      "source": [
        "tambah(1,2,2,1,1,1,1,12,2,2,5)"
      ]
    },
    {
      "cell_type": "code",
      "execution_count": 26,
      "metadata": {
        "id": "3neBlxXmZImZ"
      },
      "outputs": [],
      "source": [
        "def pendaftaran (data,**kwargs):\n",
        "  print(data)\n",
        "  for key,value in kwargs.items():\n",
        "    print(f'pendaftaran an {key}')\n",
        "    print(f'tujuan keberangkatan {value}')"
      ]
    },
    {
      "cell_type": "code",
      "execution_count": 27,
      "metadata": {
        "colab": {
          "base_uri": "https://localhost:8080/"
        },
        "id": "chmmdu3kaX0x",
        "outputId": "c731d94c-a22d-489b-c7aa-b5aa7c1fa9b7"
      },
      "outputs": [
        {
          "name": "stdout",
          "output_type": "stream",
          "text": [
            "3\n",
            "pendaftaran an bambang\n",
            "tujuan keberangkatan makasar\n",
            "pendaftaran an anto\n",
            "tujuan keberangkatan jakarta\n",
            "pendaftaran an bima\n",
            "tujuan keberangkatan surabaya\n"
          ]
        }
      ],
      "source": [
        "pendaftaran (3,bambang='makasar',anto='jakarta',bima='surabaya')"
      ]
    },
    {
      "cell_type": "code",
      "execution_count": null,
      "metadata": {
        "id": "mkFsgnmFaj7d"
      },
      "outputs": [],
      "source": []
    },
    {
      "cell_type": "markdown",
      "metadata": {
        "id": "qfQ0ha12bNSl"
      },
      "source": [
        "<img src = 'https://openaccesspub.org/article/926/images/image1.jpg'>"
      ]
    },
    {
      "cell_type": "code",
      "execution_count": 39,
      "metadata": {
        "id": "Da11I8RdctpB"
      },
      "outputs": [
        {
          "name": "stdout",
          "output_type": "stream",
          "text": [
            "rahmad score bmi anda adalah 27.68166089965398 anda overweight\n"
          ]
        }
      ],
      "source": [
        "nama = input('masukkan nama anda =')\n",
        "berat = eval(input('masukkan berat anda dalam kg='))\n",
        "tinggi = eval(input('masukkan tinggi anda dalam cm ='))\n",
        "tinggi_cm = tinggi/100\n",
        "\n",
        "def bmi_calculator(nama,berat,tinggi_cm):\n",
        "  bmi = berat/tinggi_cm**2\n",
        "  if bmi < 18.5:\n",
        "    print(f'{nama} score bmi anda adalah {bmi} anda underweight')\n",
        "  elif bmi >= 18.5 and bmi <=24.9:\n",
        "    print(f'{nama} score bmi anda adalah {bmi} anda normal')\n",
        "  else:\n",
        "    print(f'{nama} score bmi anda adalah {bmi} anda overweight')\n",
        "    \n",
        "bmi_calculator(nama,berat,tinggi_cm)"
      ]
    },
    {
      "cell_type": "code",
      "execution_count": 31,
      "metadata": {},
      "outputs": [
        {
          "name": "stdout",
          "output_type": "stream",
          "text": [
            "BMI anda = 24.691358024691358 masuk dalam kategori normal\n"
          ]
        }
      ],
      "source": [
        "BMI(80,1.8)"
      ]
    },
    {
      "cell_type": "code",
      "execution_count": 36,
      "metadata": {
        "id": "YuDQG2lqchlL"
      },
      "outputs": [],
      "source": [
        "def BMI(weight,height):\n",
        "    BMI_formula = weight / (height**2)\n",
        "    if BMI_formula > 0:\n",
        "        if BMI_formula < 18.5:\n",
        "            return print(f\"BMI anda = {BMI_formula} masuk dalam kategori underweight\")\n",
        "        elif 18.5<=BMI_formula<= 24.9:\n",
        "            return print(f\"BMI anda = {BMI_formula} masuk dalam kategori normal\")\n",
        "        elif 25<=BMI_formula<= 29.9:\n",
        "            return print(f\"BMI anda = {BMI_formula} masuk dalam kategori overweight\")\n",
        "        else:\n",
        "            return print(f\"BMI anda = {BMI_formula} masuk dalam kategori very overweight\")"
      ]
    },
    {
      "cell_type": "code",
      "execution_count": 33,
      "metadata": {
        "colab": {
          "base_uri": "https://localhost:8080/"
        },
        "id": "1EgBarRJbN0c",
        "outputId": "774ebd3d-6661-4115-ab91-77144b23a2d4"
      },
      "outputs": [
        {
          "name": "stdout",
          "output_type": "stream",
          "text": [
            "BMI anda adalah 70.0!\n"
          ]
        }
      ],
      "source": [
        "w = float(input(\"Masukan berat badan (kg): \"))\n",
        "h = float(input(\"Masukan tinggi badan (cm): \"))\n",
        "h *= 0.01\n",
        "\n",
        "def bmi(w, h):\n",
        "    calc = w/(h*h)\n",
        "    print(f\"BMI anda adalah {calc}!\")\n",
        "\n",
        "bmi(w,h)\n"
      ]
    },
    {
      "cell_type": "code",
      "execution_count": 38,
      "metadata": {
        "colab": {
          "base_uri": "https://localhost:8080/"
        },
        "id": "EomgDENFcVzl",
        "outputId": "72f98dec-e8e4-4d32-a04b-a7013a2b8a8f"
      },
      "outputs": [
        {
          "name": "stdout",
          "output_type": "stream",
          "text": [
            "BMI: 80.0, Obese\n",
            "None\n"
          ]
        }
      ],
      "source": [
        "berat = eval(input(\"Berat badan(kg): \"))\n",
        "tinggi = eval(input(\"Tinggi badan(cm): \"))\n",
        "tinggi = tinggi/100\n",
        "\n",
        "def kalkulator_BMI(berat, tinggi):\n",
        "    BMI = berat / tinggi**2\n",
        "    if BMI < 18.5:\n",
        "        return print(f\"BMI: {BMI}, Underweight\")\n",
        "    elif 18.5 <= BMI <= 24.9:\n",
        "        return print(f\"BMI: {BMI}, Normal\")\n",
        "    elif 25.0 <= BMI <= 29.9:\n",
        "        return print(f\"BMI: {np.round_(BMI,2)}, Overweight\")\n",
        "    elif BMI >= 30:\n",
        "        return print(f\"BMI: {BMI}, Obese\")\n",
        "    else :\n",
        "        return print(f\"BMI: {BMI}, other\")\n",
        "print(kalkulator_BMI(berat, tinggi))\n"
      ]
    },
    {
      "cell_type": "code",
      "execution_count": 121,
      "metadata": {
        "id": "H0JhKanReHIB"
      },
      "outputs": [
        {
          "name": "stdout",
          "output_type": "stream",
          "text": [
            "konversi suhu dari kelvin ke celcius, dan celcius ke kelvin\n"
          ]
        },
        {
          "ename": "KeyboardInterrupt",
          "evalue": "Interrupted by user",
          "output_type": "error",
          "traceback": [
            "\u001b[1;31m---------------------------------------------------------------------------\u001b[0m",
            "\u001b[1;31mKeyboardInterrupt\u001b[0m                         Traceback (most recent call last)",
            "\u001b[1;32m~\\AppData\\Local\\Temp/ipykernel_13748/2777998848.py\u001b[0m in \u001b[0;36m<module>\u001b[1;34m\u001b[0m\n\u001b[0;32m      9\u001b[0m \u001b[1;31m# function 1 konversi suhu kelvin ke celcius\u001b[0m\u001b[1;33m\u001b[0m\u001b[1;33m\u001b[0m\u001b[0m\n\u001b[0;32m     10\u001b[0m \u001b[0mprint\u001b[0m\u001b[1;33m(\u001b[0m\u001b[1;34m\"konversi suhu dari kelvin ke celcius, dan celcius ke kelvin\"\u001b[0m\u001b[1;33m)\u001b[0m\u001b[1;33m\u001b[0m\u001b[1;33m\u001b[0m\u001b[0m\n\u001b[1;32m---> 11\u001b[1;33m \u001b[0mcelcius\u001b[0m \u001b[1;33m=\u001b[0m \u001b[0meval\u001b[0m\u001b[1;33m(\u001b[0m\u001b[0minput\u001b[0m\u001b[1;33m(\u001b[0m\u001b[1;34m\"Masukan nilai suhu dalam kelvin: \"\u001b[0m\u001b[1;33m)\u001b[0m\u001b[1;33m)\u001b[0m\u001b[1;33m\u001b[0m\u001b[1;33m\u001b[0m\u001b[0m\n\u001b[0m\u001b[0;32m     12\u001b[0m \u001b[0mkelvin\u001b[0m \u001b[1;33m=\u001b[0m \u001b[0meval\u001b[0m\u001b[1;33m(\u001b[0m\u001b[0minput\u001b[0m\u001b[1;33m(\u001b[0m\u001b[1;34m\"Masukan suhu dalam celcius: \"\u001b[0m\u001b[1;33m)\u001b[0m\u001b[1;33m)\u001b[0m\u001b[1;33m\u001b[0m\u001b[1;33m\u001b[0m\u001b[0m\n\u001b[0;32m     13\u001b[0m \u001b[1;32mdef\u001b[0m \u001b[0mconvert\u001b[0m\u001b[1;33m(\u001b[0m\u001b[0mcelcius\u001b[0m\u001b[1;33m,\u001b[0m\u001b[0mkelvin\u001b[0m\u001b[1;33m)\u001b[0m\u001b[1;33m:\u001b[0m\u001b[1;33m\u001b[0m\u001b[1;33m\u001b[0m\u001b[0m\n",
            "\u001b[1;32mc:\\ProgramData\\Anaconda3\\lib\\site-packages\\ipykernel\\kernelbase.py\u001b[0m in \u001b[0;36mraw_input\u001b[1;34m(self, prompt)\u001b[0m\n\u001b[0;32m   1004\u001b[0m                 \u001b[1;34m\"raw_input was called, but this frontend does not support input requests.\"\u001b[0m\u001b[1;33m\u001b[0m\u001b[1;33m\u001b[0m\u001b[0m\n\u001b[0;32m   1005\u001b[0m             )\n\u001b[1;32m-> 1006\u001b[1;33m         return self._input_request(\n\u001b[0m\u001b[0;32m   1007\u001b[0m             \u001b[0mstr\u001b[0m\u001b[1;33m(\u001b[0m\u001b[0mprompt\u001b[0m\u001b[1;33m)\u001b[0m\u001b[1;33m,\u001b[0m\u001b[1;33m\u001b[0m\u001b[1;33m\u001b[0m\u001b[0m\n\u001b[0;32m   1008\u001b[0m             \u001b[0mself\u001b[0m\u001b[1;33m.\u001b[0m\u001b[0m_parent_ident\u001b[0m\u001b[1;33m[\u001b[0m\u001b[1;34m\"shell\"\u001b[0m\u001b[1;33m]\u001b[0m\u001b[1;33m,\u001b[0m\u001b[1;33m\u001b[0m\u001b[1;33m\u001b[0m\u001b[0m\n",
            "\u001b[1;32mc:\\ProgramData\\Anaconda3\\lib\\site-packages\\ipykernel\\kernelbase.py\u001b[0m in \u001b[0;36m_input_request\u001b[1;34m(self, prompt, ident, parent, password)\u001b[0m\n\u001b[0;32m   1049\u001b[0m             \u001b[1;32mexcept\u001b[0m \u001b[0mKeyboardInterrupt\u001b[0m\u001b[1;33m:\u001b[0m\u001b[1;33m\u001b[0m\u001b[1;33m\u001b[0m\u001b[0m\n\u001b[0;32m   1050\u001b[0m                 \u001b[1;31m# re-raise KeyboardInterrupt, to truncate traceback\u001b[0m\u001b[1;33m\u001b[0m\u001b[1;33m\u001b[0m\u001b[0m\n\u001b[1;32m-> 1051\u001b[1;33m                 \u001b[1;32mraise\u001b[0m \u001b[0mKeyboardInterrupt\u001b[0m\u001b[1;33m(\u001b[0m\u001b[1;34m\"Interrupted by user\"\u001b[0m\u001b[1;33m)\u001b[0m \u001b[1;32mfrom\u001b[0m \u001b[1;32mNone\u001b[0m\u001b[1;33m\u001b[0m\u001b[1;33m\u001b[0m\u001b[0m\n\u001b[0m\u001b[0;32m   1052\u001b[0m             \u001b[1;32mexcept\u001b[0m \u001b[0mException\u001b[0m\u001b[1;33m:\u001b[0m\u001b[1;33m\u001b[0m\u001b[1;33m\u001b[0m\u001b[0m\n\u001b[0;32m   1053\u001b[0m                 \u001b[0mself\u001b[0m\u001b[1;33m.\u001b[0m\u001b[0mlog\u001b[0m\u001b[1;33m.\u001b[0m\u001b[0mwarning\u001b[0m\u001b[1;33m(\u001b[0m\u001b[1;34m\"Invalid Message:\"\u001b[0m\u001b[1;33m,\u001b[0m \u001b[0mexc_info\u001b[0m\u001b[1;33m=\u001b[0m\u001b[1;32mTrue\u001b[0m\u001b[1;33m)\u001b[0m\u001b[1;33m\u001b[0m\u001b[1;33m\u001b[0m\u001b[0m\n",
            "\u001b[1;31mKeyboardInterrupt\u001b[0m: Interrupted by user"
          ]
        }
      ],
      "source": [
        "# Buatlah sebuah function yang dapat mengkonversi suhu dari kelvin ke celcius, dan celcius ke kelvin.\n",
        "# Buatlah sebuah function yang dapat mengkonversi suhu ke fahrenheit. \n",
        "# Tambahkan parameter untuk memastikan bahwa argumen yang dimasukan adalah celcius atau kelvin. \n",
        "# Panggil function yang pertama jika diperlukan.\n",
        "# Buatlah sebuah function yang dapat mengkonversi suhu dari fahrenheit.\n",
        "# Berikan argumen untuk memastikan bahwa outputnya adalah celcius atau kelvin.\n",
        "\n",
        "# step 1 function yang dapat mengkonversi suhu dari kelvin ke celcius, dan celcius ke kelvin.\n",
        "# function 1 konversi suhu kelvin ke celcius\n",
        "print(\"konversi suhu dari kelvin ke celcius, dan celcius ke kelvin\")\n",
        "celcius = eval(input(\"Masukan nilai suhu dalam kelvin: \"))\n",
        "kelvin = eval(input(\"Masukan suhu dalam celcius: \"))\n",
        "def convert(celcius,kelvin):\n",
        "    conv_kelvin = celcius + 273\n",
        "    conv_celcius = kelvin - 273\n",
        "    conv_fahrenheit = 9 * celcius / 5 + 32\n",
        "    print(f'hasil dari Konversi suhu {celcius} C adalah {conv_kelvin} K dan {conv_fahrenheit} F')\n",
        "    print(f'hasil dari Konversi Suhu {kelvin} K adalah {conv_celcius} C ')\n",
        "convert(celcius,kelvin)\n",
        "print(\"=\"*50)\n",
        "\n",
        "# function 2 konversi suhu kelvin ke celcius\n",
        "print(\"konversi suhu dari fahrenheit ke celcius, dan reamur\")\n",
        "fahrenheit = eval(input(\"Masukan nilai suhu dalam fahrenheit: \"))\n",
        "def convert(fahrenheit):\n",
        "    F_to_C = 5/9*(fahrenheit-32)\n",
        "    F_to_R = 4/9*(fahrenheit-32)\n",
        "    print(f'hasil dari Konversi suhu {fahrenheit} F adalah {F_to_C} C dan {F_to_R} R')\n",
        "convert(fahrenheit)\n"
      ]
    },
    {
      "cell_type": "markdown",
      "metadata": {},
      "source": [
        "##### NEW CHALLENGE\n",
        "##### Loop, Conditional IF, Function, Numpy\n"
      ]
    },
    {
      "cell_type": "code",
      "execution_count": 56,
      "metadata": {},
      "outputs": [],
      "source": [
        "# Buatlah sebuah fungsi untuk mendeteksi suatu kata terdapat pada suatu kalimat dan posisinya berada di kata ke-berapa dalam sebuah kalimat. \n",
        "# Gunakan Loop, Conditional If, dan Numpy array untuk kasus ini.\n",
        "# In: word_detection(\"apa\", \"apa kabar kamu?\")\n",
        "# Out: Kata 'apa' berada di kata ke-1 pada kalimat ini.\n",
        "\n",
        "def word_detection(word, sentence):\n",
        "  result = False\n",
        "  split_sentence = np.array(sentence.split(\" \"))\n",
        "  for i in split_sentence:\n",
        "    if word == i:\n",
        "      result = True\n",
        "  if result:\n",
        "    print(f\"Kata '{word}' berada di kata ke-{np.where(split_sentence == word)[0][0] + 1} pada kalimat ini\")\n",
        "  else:\n",
        "    print(f\"Kata '{word}' tidak terdapat pada kalimat ini\")"
      ]
    },
    {
      "cell_type": "code",
      "execution_count": null,
      "metadata": {},
      "outputs": [],
      "source": [
        "def word_detection(word, sentence):\n",
        "  result = False\n",
        "  split_sentence = np.array(sentence.split(\" \"))\n",
        "  for i in split_sentence:\n",
        "    if word == i:\n",
        "      result = True\n",
        "  if result:\n",
        "    print(f\"Kata '{word}' berada di kata ke-{np.where(split_sentence == word)[0][0] + 1} pada kalimat ini\")\n",
        "  else:\n",
        "    print(f\"Kata '{word}' tidak terdapat pada kalimat ini\")"
      ]
    }
  ],
  "metadata": {
    "colab": {
      "name": "functions.ipynb",
      "provenance": []
    },
    "kernelspec": {
      "display_name": "Python 3.9.7 ('base')",
      "language": "python",
      "name": "python3"
    },
    "language_info": {
      "codemirror_mode": {
        "name": "ipython",
        "version": 3
      },
      "file_extension": ".py",
      "mimetype": "text/x-python",
      "name": "python",
      "nbconvert_exporter": "python",
      "pygments_lexer": "ipython3",
      "version": "3.9.7"
    },
    "vscode": {
      "interpreter": {
        "hash": "ad2bdc8ecc057115af97d19610ffacc2b4e99fae6737bb82f5d7fb13d2f2c186"
      }
    }
  },
  "nbformat": 4,
  "nbformat_minor": 0
}
