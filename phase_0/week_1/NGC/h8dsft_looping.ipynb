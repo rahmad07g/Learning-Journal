{
  "cells": [
    {
      "cell_type": "markdown",
      "metadata": {},
      "source": [
        "### Day 2 Conditional & Looping"
      ]
    },
    {
      "cell_type": "code",
      "execution_count": 2,
      "metadata": {},
      "outputs": [
        {
          "name": "stdout",
          "output_type": "stream",
          "text": [
            "list angka genap : [402, 984, 360, 408, 980, 544, 390, 984, 592, 236, 942, 386, 462, 418, 344, 236, 566, 978, 328, 162, 758, 918]\n",
            "=========== Done ============\n"
          ]
        }
      ],
      "source": [
        "# - Loop dan print semua angka genap dari list angka diatas dengan urutan yang sama. \n",
        "# - Jangan mencetak angka apapun yang muncul setelah angka 918 berdasarkan posisi angka tersebut pada list diatas.\n",
        "# \\Tampilkan pesan ”Done” setelah looping berakhir\" \n",
        "\n",
        "numbers = [951, 402, 984, 651, 360, 69, 408, 319, 601, 485, 980, 507, 725, 547, 544, 615, \n",
        "83, 165, 141, 501, 263, 617, 865, 575, 219, 390, 984, 592, 236, 105, 942, 941, 386, 462, \n",
        "47, 418, 907, 344, 236, 375, 823, 566, 597, 978, 328, 615, 953, 345, 399, 162, 758, 219, 918, \n",
        "237, 412, 566, 826, 248, 866, 950, 626, 949] #selesai pada bagian ini\n",
        "\n",
        "angka_genap = []\n",
        "for x in numbers:\n",
        "    if x == 237:\n",
        "        break # looping harus berhenti setelah angka 918\n",
        "    if x % 2 == 1: # hanya angka genap yang dapat dilooping\n",
        "        continue \n",
        "    angka_genap.append(x)\n",
        "print(f\"list angka genap : {angka_genap}\")\n",
        "print(\"=========== Done ============\")  \n"
      ]
    },
    {
      "cell_type": "code",
      "execution_count": 6,
      "metadata": {},
      "outputs": [
        {
          "name": "stdout",
          "output_type": "stream",
          "text": [
            "22 genap\n",
            "None\n"
          ]
        }
      ],
      "source": [
        "def modulus(number):\n",
        "    if number % 2 == 0:\n",
        "        print(f'{number} genap')\n",
        "    else:\n",
        "        print(f'{number} ganjil')\n",
        "\n",
        "a = int(input('Masukkan Angka : '))\n",
        "print(modulus(a))\n"
      ]
    },
    {
      "cell_type": "code",
      "execution_count": null,
      "metadata": {},
      "outputs": [],
      "source": [
        "def modulus(input):\n",
        "    if input % 2 == 0:\n",
        "        print(f'{input} genap')\n",
        "    else:\n",
        "        print(f'{input} ganjil')\n",
        "\n",
        "a = (input('Masukkan kata-kata hacktiv8 : '))\n",
        "print(modulus(a))"
      ]
    },
    {
      "cell_type": "code",
      "execution_count": 10,
      "metadata": {},
      "outputs": [
        {
          "name": "stdout",
          "output_type": "stream",
          "text": [
            "False\n"
          ]
        }
      ],
      "source": [
        "a = input (\"Masukan kata hacktiv8 \")\n",
        "def deteksi_kata (a):\n",
        "    if a == \"hacktiv8\":\n",
        "        print(True)\n",
        "    else:\n",
        "        print(False)\n",
        "\n",
        "deteksi_kata(a)"
      ]
    },
    {
      "cell_type": "code",
      "execution_count": 10,
      "metadata": {},
      "outputs": [
        {
          "name": "stdout",
          "output_type": "stream",
          "text": [
            "402\n",
            "984\n",
            "360\n",
            "408\n",
            "980\n",
            "544\n",
            "390\n",
            "984\n",
            "592\n",
            "236\n",
            "942\n",
            "386\n",
            "462\n",
            "418\n",
            "344\n",
            "236\n",
            "566\n",
            "978\n",
            "328\n",
            "162\n",
            "758\n",
            "918\n",
            "Done\n"
          ]
        }
      ],
      "source": [
        "# Other Option\n",
        "\n",
        "numbers = [951, 402, 984, 651, 360, 69, 408, 319, 601, 485, 980, 507, 725, 547, 544, 615, \n",
        "83, 165, 141, 501, 263, 617, 865, 575, 219, 390, 984, 592, 236, 105, 942, 941, 386, 462, \n",
        "47, 418, 907, 344, 236, 375, 823, 566, 597, 978, 328, 615, 953, 345, 399, 162, 758, 219, 918, \n",
        "237, 412, 566, 826, 248, 866, 950, 626, 949] #selesai pada bagian ini\n",
        "\n",
        "for number_new in numbers:\n",
        "    if number_new == 237:\n",
        "        break\n",
        "    if number_new % 2 == 1:\n",
        "        continue\n",
        "    print(number_new)\n",
        "print(\"Done\")  "
      ]
    },
    {
      "cell_type": "code",
      "execution_count": 3,
      "metadata": {},
      "outputs": [],
      "source": [
        "s = \"Hacktiv8-PTP Python For Data Science\"\n",
        "a = [100, 200, 300]\n",
        "def foo(arg):   \n",
        "  print(f'arg = {arg}')\n",
        "class Foo:   \n",
        "   pass"
      ]
    },
    {
      "cell_type": "code",
      "execution_count": 4,
      "metadata": {},
      "outputs": [
        {
          "name": "stdout",
          "output_type": "stream",
          "text": [
            "\n",
            "Values outside the function - before :  [10, 20, 30]\n",
            "\n",
            "Values inside the function :  [10, 20, 30, 1, 2, 3, 4]\n",
            "\n",
            "Values outside the function - after  :  [10, 20, 30, 1, 2, 3, 4]\n"
          ]
        }
      ],
      "source": [
        "# Function definition is here\n",
        "\n",
        "def changeme( mylist ):\n",
        "   '''This changes a passed list into this function'''\n",
        "   mylist = mylist+[1,2,3,4]\n",
        "   print(\"\\nValues inside the function : \", mylist)\n",
        "   return mylist\n",
        "\n",
        "# Now you can call changeme function\n",
        "mylist = [10,20,30]\n",
        "print(\"\\nValues outside the function - before : \", mylist)\n",
        "mylist = changeme( mylist )\n",
        "print(\"\\nValues outside the function - after  : \", mylist)"
      ]
    },
    {
      "cell_type": "code",
      "execution_count": 7,
      "metadata": {},
      "outputs": [
        {
          "name": "stdout",
          "output_type": "stream",
          "text": [
            "BMI: 24.221453287197235, Normal\n"
          ]
        }
      ],
      "source": [
        "berat = eval(input(\"Berat badan(kg): \"))\n",
        "tinggi = eval(input(\"Tinggi badan(cm): \"))\n",
        "tinggi = tinggi/100\n",
        "\n",
        "def kalkulator_BMI(berat, tinggi):\n",
        "    BMI = berat / tinggi**2\n",
        "    if BMI < 18.5:\n",
        "        return f\"BMI: {BMI}, Underweight\"\n",
        "    elif 18.5 <= BMI <= 24.9:\n",
        "        return f\"BMI: {BMI}, Normal\"\n",
        "    elif 25.0 <= BMI <= 29.9:\n",
        "        return f\"BMI: {BMI}, Overweight\"\n",
        "    elif BMI >= 30:\n",
        "        return f\"BMI: {BMI}, Obese\"\n",
        "\n",
        "print(kalkulator_BMI(berat, tinggi))\n"
      ]
    },
    {
      "cell_type": "code",
      "execution_count": 13,
      "metadata": {},
      "outputs": [
        {
          "name": "stdout",
          "output_type": "stream",
          "text": [
            "Rahmad score bmi anda adalah 44.44444444444444 anda overweight\n",
            "None\n"
          ]
        }
      ],
      "source": [
        "nama = input(\"Masukkan Nama Anda: \")\n",
        "berat = eval(input(\"Berat badan(kg): \"))\n",
        "tinggi = eval(input(\"Tinggi badan(cm): \"))\n",
        "tinggi = tinggi/100\n",
        "def bmi_calculator (nama,berat,tinggi):\n",
        "    bmi = berat/tinggi**2\n",
        "    if bmi < 18.5:\n",
        "        print(f\"{nama} score bmi anda adalah {bmi} anda underweight\")\n",
        "    elif bmi >= 18.5 and bmi <=24.9:\n",
        "        print(f\"{nama} score bmi anda adalah {bmi} anda normal\")\n",
        "    else:\n",
        "         print(f\"{nama} score bmi anda adalah {bmi} anda overweight\")\n",
        "         \n",
        "print(bmi_calculator(nama,berat,tinggi))"
      ]
    },
    {
      "cell_type": "code",
      "execution_count": 14,
      "metadata": {},
      "outputs": [],
      "source": [
        "def tambah (x,y):\n",
        "    hasil = x+y\n",
        "    return hasil\n",
        "    \n",
        "def kurang (x,y):\n",
        "    hasil = x-y\n",
        "    return hasil"
      ]
    },
    {
      "cell_type": "code",
      "execution_count": 15,
      "metadata": {},
      "outputs": [
        {
          "data": {
            "text/plain": [
              "10"
            ]
          },
          "execution_count": 15,
          "metadata": {},
          "output_type": "execute_result"
        }
      ],
      "source": [
        "tambah (5,5)"
      ]
    },
    {
      "cell_type": "code",
      "execution_count": 16,
      "metadata": {},
      "outputs": [
        {
          "data": {
            "text/plain": [
              "0"
            ]
          },
          "execution_count": 16,
          "metadata": {},
          "output_type": "execute_result"
        }
      ],
      "source": [
        "kurang (10,10)"
      ]
    },
    {
      "cell_type": "code",
      "execution_count": null,
      "metadata": {},
      "outputs": [],
      "source": []
    }
  ],
  "metadata": {
    "colab": {
      "name": "Conditional_&_Looping_013.ipynb",
      "provenance": []
    },
    "kernelspec": {
      "display_name": "Python 3.9.7 ('base')",
      "language": "python",
      "name": "python3"
    },
    "language_info": {
      "codemirror_mode": {
        "name": "ipython",
        "version": 3
      },
      "file_extension": ".py",
      "mimetype": "text/x-python",
      "name": "python",
      "nbconvert_exporter": "python",
      "pygments_lexer": "ipython3",
      "version": "3.9.7"
    },
    "vscode": {
      "interpreter": {
        "hash": "ad2bdc8ecc057115af97d19610ffacc2b4e99fae6737bb82f5d7fb13d2f2c186"
      }
    }
  },
  "nbformat": 4,
  "nbformat_minor": 0
}
