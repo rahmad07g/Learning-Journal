{
  "cells": [
    {
      "cell_type": "markdown",
      "metadata": {},
      "source": [
        "### Day 2 Conditional & Looping"
      ]
    },
    {
      "cell_type": "code",
      "execution_count": 2,
      "metadata": {},
      "outputs": [
        {
          "name": "stdout",
          "output_type": "stream",
          "text": [
            "list angka genap : [402, 984, 360, 408, 980, 544, 390, 984, 592, 236, 942, 386, 462, 418, 344, 236, 566, 978, 328, 162, 758, 918]\n",
            "=========== Done ============\n"
          ]
        }
      ],
      "source": [
        "# - Loop dan print semua angka genap dari list angka diatas dengan urutan yang sama. \n",
        "# - Jangan mencetak angka apapun yang muncul setelah angka 918 berdasarkan posisi angka tersebut pada list diatas.\n",
        "# \\Tampilkan pesan ”Done” setelah looping berakhir\" \n",
        "\n",
        "numbers = [951, 402, 984, 651, 360, 69, 408, 319, 601, 485, 980, 507, 725, 547, 544, 615, \n",
        "83, 165, 141, 501, 263, 617, 865, 575, 219, 390, 984, 592, 236, 105, 942, 941, 386, 462, \n",
        "47, 418, 907, 344, 236, 375, 823, 566, 597, 978, 328, 615, 953, 345, 399, 162, 758, 219, 918, \n",
        "237, 412, 566, 826, 248, 866, 950, 626, 949] #selesai pada bagian ini\n",
        "\n",
        "angka_genap = []\n",
        "for x in numbers:\n",
        "    if x == 237:\n",
        "        break # looping harus berhenti setelah angka 918\n",
        "    if x % 2 == 1: # hanya angka genap yang dapat dilooping\n",
        "        continue \n",
        "    angka_genap.append(x)\n",
        "print(f\"list angka genap : {angka_genap}\")\n",
        "print(\"=========== Done ============\")  \n"
      ]
    },
    {
      "cell_type": "code",
      "execution_count": 10,
      "metadata": {},
      "outputs": [
        {
          "name": "stdout",
          "output_type": "stream",
          "text": [
            "402\n",
            "984\n",
            "360\n",
            "408\n",
            "980\n",
            "544\n",
            "390\n",
            "984\n",
            "592\n",
            "236\n",
            "942\n",
            "386\n",
            "462\n",
            "418\n",
            "344\n",
            "236\n",
            "566\n",
            "978\n",
            "328\n",
            "162\n",
            "758\n",
            "918\n",
            "Done\n"
          ]
        }
      ],
      "source": [
        "# Other Option\n",
        "\n",
        "numbers = [951, 402, 984, 651, 360, 69, 408, 319, 601, 485, 980, 507, 725, 547, 544, 615, \n",
        "83, 165, 141, 501, 263, 617, 865, 575, 219, 390, 984, 592, 236, 105, 942, 941, 386, 462, \n",
        "47, 418, 907, 344, 236, 375, 823, 566, 597, 978, 328, 615, 953, 345, 399, 162, 758, 219, 918, \n",
        "237, 412, 566, 826, 248, 866, 950, 626, 949] #selesai pada bagian ini\n",
        "\n",
        "for number_new in numbers:\n",
        "    if number_new == 237:\n",
        "        break\n",
        "    if number_new % 2 == 1:\n",
        "        continue\n",
        "    print(number_new)\n",
        "print(\"Done\")  "
      ]
    }
  ],
  "metadata": {
    "colab": {
      "name": "Conditional_&_Looping_013.ipynb",
      "provenance": []
    },
    "kernelspec": {
      "display_name": "Python 3.9.7 ('base')",
      "language": "python",
      "name": "python3"
    },
    "language_info": {
      "codemirror_mode": {
        "name": "ipython",
        "version": 3
      },
      "file_extension": ".py",
      "mimetype": "text/x-python",
      "name": "python",
      "nbconvert_exporter": "python",
      "pygments_lexer": "ipython3",
      "version": "3.9.7"
    },
    "vscode": {
      "interpreter": {
        "hash": "ad2bdc8ecc057115af97d19610ffacc2b4e99fae6737bb82f5d7fb13d2f2c186"
      }
    }
  },
  "nbformat": 4,
  "nbformat_minor": 0
}
